{
  "nbformat": 4,
  "nbformat_minor": 0,
  "metadata": {
    "accelerator": "TPU",
    "colab": {
      "name": "Lunar_Lander__task1.ipynb",
      "provenance": [],
      "collapsed_sections": []
    },
    "kernelspec": {
      "display_name": "Python 3",
      "name": "python3"
    },
    "language_info": {
      "name": "python"
    }
  },
  "cells": [
    {
      "cell_type": "markdown",
      "metadata": {
        "id": "jzCuD_ZBQueV"
      },
      "source": [
        "\n",
        "\n",
        "# Assignment 2: Lunar Lander \n",
        "**Task 1**\n",
        "\n",
        "Student Name- Sandeep Dubey & Kshitija Shelar\n",
        "\n",
        "Student Number- 20200220\n",
        "\n",
        "Student Number- 20200155\n"
      ]
    },
    {
      "cell_type": "code",
      "metadata": {
        "id": "y3de7I2PQs4J"
      },
      "source": [
        "import keras \n",
        "from keras.models import Sequential\n",
        "from keras.layers import Dense, Activation, Dropout, Conv2D, MaxPooling2D, Flatten\n",
        "from keras.utils import np_utils\n",
        "from keras import backend as k\n",
        "from keras.utils.np_utils import to_categorical\n",
        "from keras.optimizers import Adam, RMSprop\n",
        "from keras.callbacks import ModelCheckpoint\n",
        "import time\n",
        "\n",
        "import sklearn\n",
        "from sklearn import metrics\n",
        "from sklearn.model_selection import train_test_split\n",
        "from sklearn import preprocessing\n",
        "from sklearn.utils import shuffle\n",
        "from tensorflow.python.keras import utils\n",
        "import csv\n",
        "import os\n",
        "import cv2\n",
        "import random \n",
        "import pandas as pd\n",
        "import matplotlib.pyplot as plt\n",
        "%matplotlib inline\n",
        "import scipy as sp\n",
        "import PIL\n",
        "from matplotlib import ticker\n",
        "import seaborn as sb\n",
        "import numpy as np\n",
        "\n",
        "from imblearn.under_sampling import RandomUnderSampler\n",
        "from keras.applications.vgg16 import VGG16"
      ],
      "execution_count": null,
      "outputs": []
    },
    {
      "cell_type": "markdown",
      "metadata": {
        "id": "qqRndt_uVa7c"
      },
      "source": [
        "**Class Lunar Lander includes function to read and process input images, we are sampling input data and transforming each image to feed it to our network. We are only considering a single channel, as an input to the network. We are reducing input image dimension to 162,128 each single channeled as an input to LENET-5 network**\n",
        "\n",
        "**We are setting the sample_rate to 0.3 for LENET-5 network. This means our notebook will use only 10% of the data.**"
      ]
    },
    {
      "cell_type": "code",
      "metadata": {
        "id": "3YI2ZuqrE5zb"
      },
      "source": [
        "class LunarLander():\n",
        "\n",
        "  def __init__(self):\n",
        "    self.ROWS = 162 # Target image width, after resizing and reshaping input image\n",
        "    self.COLS = 128 #Target image height, after resizing and reshaping input image\n",
        "    self.CHANNELS = 1 # We are only taking single channel as an input to our network. We will shrink 3 channeled input to single channel.\n",
        "    self.sample_rate=0.3 # Sampling rate is %of data we are sampling from total number of images.\n",
        "    self.input_shape=(self.ROWS, self.COLS,self.CHANNELS) # For lenet input shape is (162,128,1).\n",
        "    self.image_filenames= {} #Dict to store all imagefiles inside the folder\n",
        "    self.img_filenames=[]\n",
        "\n",
        "    self.root_dir = \"/content/drive/MyDrive/COMP47590 Assignment 2 LunarEirLander Dataset V2.zip (Unzipped Files)\"\n",
        "\n",
        "    self.nb_classes = 0\n",
        "\n",
        "    self.model = Sequential()\n",
        "    self.history = {}\n",
        "    self.model_train_accuracy_comparision = dict()\n",
        "    self.model_train_f1_score_comparision = dict()\n",
        "    self.model_train_recall_comparision = dict()\n",
        "    self.model_train_time_comparison = dict()\n",
        "    self.model_test_accuracy_comparision = dict()\n",
        "    self.model_test_f1_score_comparision = dict()\n",
        "    self.model_test_recall_comparision = dict()\n",
        "    self.model_test_time_comparision = dict()\n",
        "    \n",
        "  def mount_drive(self):\n",
        "    from google.colab import drive\n",
        "    drive.mount('/content/drive')\n",
        "\n",
        "  def make_dir(self):\n",
        "    \n",
        "    dir =  [i for i in os.listdir(self.root_dir) if not \".\" in i]\n",
        "    self.root_dir = self.root_dir+\"/\"\n",
        "    dir = [i+\"/\" for i in dir]\n",
        "    for index, i in enumerate(dir):\n",
        "      self.image_filenames[i]=[i for i in os.listdir(self.root_dir+i) if not i.startswith(\".\")]\n",
        "\n",
        "  def fetch_filename(self):\n",
        "    for key in list(self.image_filenames.keys()):\n",
        "      for i in range(len(self.image_filenames[key])):\n",
        "        self.image_filenames[key][i]= key+self.image_filenames[key][i]\n",
        "\n",
        "  def get_img(self):\n",
        "    self.img_filenames=self.image_filenames['2021-03-04-10-02-03/']\n",
        "    for i in range(1,len(list(self.image_filenames.keys()))):\n",
        "      self.img_filenames.extend(self.image_filenames[list(self.image_filenames.keys())[i]])\n",
        "    \n",
        "  def print(self):\n",
        "    print(len(self.img_filenames))\n",
        "\n",
        "  def plot_img(self):\n",
        "    fig = plt.figure(figsize=(15, 25))\n",
        "    for i,path in enumerate(random.sample(self.img_filenames,10)):\n",
        "      plt.subplot(5,2,i+1)\n",
        "      img = cv2.imread(self.root_dir+path)\n",
        "      plt.imshow(img)\n",
        "      #print(img.shape)\n",
        "    plt.show()\n",
        "\n",
        "  def make_array(self):\n",
        "    self.img_filenames = random.sample(self.img_filenames, int(len(self.img_filenames)*self.sample_rate))\n",
        "\n",
        "    # Create a data array for image data\n",
        "    count = len(self.img_filenames)\n",
        "    #print(count)\n",
        "    self.X_data = np.ndarray((count, self.ROWS, self.COLS, self.CHANNELS), dtype=np.float)\n",
        "    print(self.X_data.shape)\n",
        "    self.y_data= np.ndarray(0, dtype=np.int)\n",
        "    print(len(self.img_filenames))\n",
        "\n",
        "  def build_img(self):\n",
        "    start = time.time\n",
        "\n",
        "    # Iterate throuigh the filenames and for each one load the image, resize and normalise\n",
        "    for i, image_file in enumerate(self.img_filenames): \n",
        "      image = cv2.imread(self.root_dir+image_file,cv2.IMREAD_GRAYSCALE)\n",
        "      #print(image)\n",
        "      image = cv2.resize(image, (self.ROWS, self.COLS))\n",
        "      #print(image.shape)\n",
        "      #Reshaping the image shape from (84,84) to (1,1,84,84)\n",
        "\n",
        "      processed_image = image.reshape((1,self.ROWS, self.COLS, self.CHANNELS))\n",
        "      self.X_data[i] = processed_image\n",
        "      self.X_data[i] = self.X_data[i]/255\n",
        "    \n",
        "    end = time.time\n",
        "   \n",
        "\n",
        "  \n",
        "  def label_extraction(self):\n",
        "    y = []\n",
        "    for img in self.img_filenames:\n",
        "      #print(img[-6:-5])\n",
        "      y.append(np.int(img[-6:-5]))\n",
        "    self.y_data = np.array(y)\n",
        "    print(self.X_data.shape)\n",
        "  \n",
        "\n",
        "  def split_train_test(self):\n",
        "    self.X_train, self.X_test, self.y_train , self.y_test = train_test_split(self.X_data,self.y_data,test_size = 0.30,random_state = 1,train_size = 0.70)\n",
        "    self.nb_classes  = len(set(self.y_data))\n",
        "\n",
        "  \n",
        "  def encoder(self):\n",
        "    lb = sklearn.preprocessing.LabelEncoder()\n",
        "\n",
        "    self.y_train_encoded = lb.fit_transform(self.y_train)\n",
        "    self.y_test_encoded = lb.fit_transform(self.y_test)\n",
        "\n",
        "    self.y_train_cat = keras.utils.np_utils.to_categorical(self.y_train_encoded,self.nb_classes)\n",
        "    self.y_test_cat = keras.utils.np_utils.to_categorical(self.y_test_encoded,self.nb_classes)\n",
        "\n",
        "#Lenet MOdel\n",
        "  def build_model_lenet(self):\n",
        "    self.model.add(Conv2D(32, (5, 5), input_shape=self.input_shape))\n",
        "    self.model.add(Activation('relu'))\n",
        "    self.model.add(MaxPooling2D(pool_size=(2, 2)))\n",
        "\n",
        "    self.model.add(Conv2D(32, (5, 5)))\n",
        "    self.model.add(Activation('relu'))\n",
        "    self.model.add(MaxPooling2D(pool_size=(2, 2)))\n",
        "\n",
        "    self.model.add(Conv2D(64, (5, 5)))\n",
        "    self.model.add(Activation('relu'))\n",
        "    self.model.add(MaxPooling2D(pool_size=(2, 2)))\n",
        "\n",
        "    self.model.add(Flatten())\n",
        "    self.model.add(Dense(256))\n",
        "    self.model.add(Activation('relu'))\n",
        "    self.model.add(Dropout(0.5))\n",
        "    self.model.add(Dense(self.nb_classes))\n",
        "    self.model.add(Activation('softmax'))\n",
        "\n",
        "    self.model.compile(loss='binary_crossentropy',\n",
        "              optimizer='adam',\n",
        "              metrics=['accuracy'])\n",
        "\n",
        "    self.model.summary()\n",
        "\n",
        "  \n",
        "\n"
      ],
      "execution_count": null,
      "outputs": []
    },
    {
      "cell_type": "markdown",
      "metadata": {
        "id": "v8_gTG5pW2dP"
      },
      "source": [
        "**Creating object of LunarLander class and mounting drive data from where will feed input images**"
      ]
    },
    {
      "cell_type": "code",
      "metadata": {
        "colab": {
          "base_uri": "https://localhost:8080/"
        },
        "id": "ns9HUBnNGOSt",
        "outputId": "4ae941ae-a469-4e66-8b5b-939228f09773"
      },
      "source": [
        "lander = LunarLander()\n",
        "lander.mount_drive()\n"
      ],
      "execution_count": null,
      "outputs": [
        {
          "output_type": "stream",
          "text": [
            "Drive already mounted at /content/drive; to attempt to forcibly remount, call drive.mount(\"/content/drive\", force_remount=True).\n"
          ],
          "name": "stdout"
        }
      ]
    },
    {
      "cell_type": "markdown",
      "metadata": {
        "id": "Af4snGxfXDIz"
      },
      "source": [
        " **Iterating over the images, making sure that they are jpeg or png. Creating a list of image names. Appending it to root dir to create address of each image .**"
      ]
    },
    {
      "cell_type": "code",
      "metadata": {
        "colab": {
          "base_uri": "https://localhost:8080/"
        },
        "id": "hjzOPQm9VlYD",
        "outputId": "554288bf-8a05-4c8f-f93b-15e88a4ee930"
      },
      "source": [
        "lander.make_dir()"
      ],
      "execution_count": null,
      "outputs": [
        {
          "output_type": "stream",
          "text": [
            "Drive already mounted at /content/drive; to attempt to forcibly remount, call drive.mount(\"/content/drive\", force_remount=True).\n"
          ],
          "name": "stdout"
        }
      ]
    },
    {
      "cell_type": "markdown",
      "metadata": {
        "id": "AJ1FIad7cw4-"
      },
      "source": [
        "**Fetch filename and get_img would iterate over all file names in a directory and will try to fetch complete address till the image. Here we are only considering input images from a single folder given there are lot of images and it would be computationally very cumbersome.**"
      ]
    },
    {
      "cell_type": "code",
      "metadata": {
        "id": "meyfBXwGJIOD"
      },
      "source": [
        "lander.fetch_filename()\n",
        "lander.get_img()\n"
      ],
      "execution_count": null,
      "outputs": []
    },
    {
      "cell_type": "code",
      "metadata": {
        "colab": {
          "base_uri": "https://localhost:8080/",
          "height": 1000
        },
        "id": "mRqblpLpJORw",
        "outputId": "4b35f3ed-0c4d-46da-eece-2c7ceb273c48"
      },
      "source": [
        "lander.plot_img()"
      ],
      "execution_count": null,
      "outputs": [
        {
          "output_type": "display_data",
          "data": {
            "image/png": "[encoded data removed]",
            "text/plain": [
              "<Figure size 1080x1800 with 10 Axes>"
            ]
          },
          "metadata": {
            "tags": []
          }
        }
      ]
    },
    {
      "cell_type": "markdown",
      "metadata": {
        "id": "bmkqV1PxdaEx"
      },
      "source": [
        "**Creating an ndarray of size (count,rows,cols,channels) to store all the input images as X and its corresponding label as Y. We are reading images from training data directory in a loop and convert each image to greyscale considering only single channel. Also we are reshaping it to (162,128) pixels from its original size of 1200800 pixels.\n",
        "Then we are iterating over each image data array and normalizing it. We are also extracting the state of the game from the image filename and storing it in y_data.**\n",
        "\n",
        "\n",
        "\n",
        "*   \n",
        "*  \n",
        "\n",
        "\n",
        "\n",
        "\n",
        "\n",
        "\n",
        "**Finding out the distribution of the y_data that contains the various state of the game.**\n",
        "\n",
        "\n",
        "*   0 -none\n",
        "*   1 -up\n",
        "*   2 -left\n",
        "*  3 -right\n"
      ]
    },
    {
      "cell_type": "code",
      "metadata": {
        "colab": {
          "base_uri": "https://localhost:8080/"
        },
        "id": "OgF5Lw4oPs3p",
        "outputId": "973e2678-bcb1-43cf-914d-b05ae78e2de6"
      },
      "source": [
        "lander.make_array()\n",
        "lander.build_img()\n",
        "lander.label_extraction()"
      ],
      "execution_count": null,
      "outputs": [
        {
          "output_type": "stream",
          "text": [
            "(1830, 162, 128, 1)\n",
            "1830\n"
          ],
          "name": "stdout"
        }
      ]
    },
    {
      "cell_type": "markdown",
      "metadata": {
        "id": "nJKo7U-OfY_t"
      },
      "source": [
        "**Splitting input data into train and test set, considering 70:30 split for train and test set.**"
      ]
    },
    {
      "cell_type": "code",
      "metadata": {
        "id": "o1uoW4uiHEe0"
      },
      "source": [
        "lander.split_train_test()\n"
      ],
      "execution_count": null,
      "outputs": []
    },
    {
      "cell_type": "markdown",
      "metadata": {
        "id": "y-eE0B6cfwcJ"
      },
      "source": [
        "**Using Label encoder to encode each label into categories, passing as our y output **"
      ]
    },
    {
      "cell_type": "code",
      "metadata": {
        "id": "sQYwtVXrHQlz"
      },
      "source": [
        "lander.encoder()"
      ],
      "execution_count": null,
      "outputs": []
    },
    {
      "cell_type": "markdown",
      "metadata": {
        "id": "7Svx7CjPg8_Q"
      },
      "source": [
        "**After generating data, and preprocessing data will feed it to the network. As classes are imbalanced will also fixed class imbalance by undersampling for each model architecture and then testing different model architecture to classify state of images.**\n",
        "\n",
        "**Here we are considering two networks, LENET-5 and VGG16**\n",
        "\n",
        "1). LeNet-5 is one of the simplest architectures. It has 2 convolutional and 3 fully-connected layers (hence “5” — it is very common for the names of neural networks to be derived from the number of convolutional and fully connected layers that they have). The average-pooling layer as we know it now was called a sub-sampling layer and it had trainable weights (which isn’t the current practice of designing CNNs nowadays). This architecture has about 60,000 parameters.\n",
        "\n",
        "2)VGG-16  model can be built both with 'channels_first' data format (channels, height, width) or 'channels_last' data format (height, width, channels).\n",
        "\n",
        "The default input size for this model is 224x224.\n",
        "\n",
        "Note: each Keras Application expects a specific kind of input preprocessing. For VGG16, call tf.keras.applications.vgg16.preprocess_input on your inputs before passing them to the model.\n",
        "\n",
        "Arguments\n",
        "\n",
        "    include_top: whether to include the 3 fully-connected layers at the top of the network.\n",
        "    weights: one of None (random initialization), 'imagenet' (pre-training on ImageNet), or the path to the weights file to be loaded.\n",
        "    input_tensor: optional Keras tensor (i.e. output of layers.Input()) to use as image input for the model.\n",
        "    input_shape: optional shape tuple, only to be specified if include_top is False (otherwise the input shape has to be (224, 224, 3) (with channels_last data format) or (3, 224, 224) (with channels_first data format). It should have exactly 3 input channels, and width and height should be no smaller than 32. E.g. (200, 200, 3) would be one valid value.\n",
        "    pooling: Optional pooling mode for feature extraction when include_top is False. - None means that the output of the model will be the 4D tensor output of the last convolutional block. - avg means that global average pooling will be applied to the output of the last convolutional block, and thus the output of the model will be a 2D tensor. - max means that global max pooling will be applied.\n",
        "    classes: optional number of classes to classify images into, only to be specified if include_top is True, and if no weights argument is specified.\n",
        "    classifier_activation: A str or callable. The activation function to use on the \"top\" layer.\n"
      ]
    },
    {
      "cell_type": "markdown",
      "metadata": {
        "id": "Uq0NDqzjRd7W"
      },
      "source": [
        "## Performing evaluation on LENET-5 model"
      ]
    },
    {
      "cell_type": "code",
      "metadata": {
        "colab": {
          "base_uri": "https://localhost:8080/"
        },
        "id": "dOegrYQ1HSaD",
        "outputId": "dfbdafbb-3ea1-4269-85bd-b1fa302235a7"
      },
      "source": [
        "lander.build_model_lenet()"
      ],
      "execution_count": null,
      "outputs": [
        {
          "output_type": "stream",
          "text": [
            "Model: \"sequential_5\"\n",
            "_________________________________________________________________\n",
            "Layer (type)                 Output Shape              Param #   \n",
            "=================================================================\n",
            "conv2d_3 (Conv2D)            (None, 158, 124, 32)      832       \n",
            "_________________________________________________________________\n",
            "activation_5 (Activation)    (None, 158, 124, 32)      0         \n",
            "_________________________________________________________________\n",
            "max_pooling2d_3 (MaxPooling2 (None, 79, 62, 32)        0         \n",
            "_________________________________________________________________\n",
            "conv2d_4 (Conv2D)            (None, 75, 58, 32)        25632     \n",
            "_________________________________________________________________\n",
            "activation_6 (Activation)    (None, 75, 58, 32)        0         \n",
            "_________________________________________________________________\n",
            "max_pooling2d_4 (MaxPooling2 (None, 37, 29, 32)        0         \n",
            "_________________________________________________________________\n",
            "conv2d_5 (Conv2D)            (None, 33, 25, 64)        51264     \n",
            "_________________________________________________________________\n",
            "activation_7 (Activation)    (None, 33, 25, 64)        0         \n",
            "_________________________________________________________________\n",
            "max_pooling2d_5 (MaxPooling2 (None, 16, 12, 64)        0         \n",
            "_________________________________________________________________\n",
            "flatten_2 (Flatten)          (None, 12288)             0         \n",
            "_________________________________________________________________\n",
            "dense_4 (Dense)              (None, 256)               3145984   \n",
            "_________________________________________________________________\n",
            "activation_8 (Activation)    (None, 256)               0         \n",
            "_________________________________________________________________\n",
            "dropout_1 (Dropout)          (None, 256)               0         \n",
            "_________________________________________________________________\n",
            "dense_5 (Dense)              (None, 4)                 1028      \n",
            "_________________________________________________________________\n",
            "activation_9 (Activation)    (None, 4)                 0         \n",
            "=================================================================\n",
            "Total params: 3,224,740\n",
            "Trainable params: 3,224,740\n",
            "Non-trainable params: 0\n",
            "_________________________________________________________________\n"
          ],
          "name": "stdout"
        }
      ]
    },
    {
      "cell_type": "code",
      "metadata": {
        "colab": {
          "background_save": true,
          "base_uri": "https://localhost:8080/"
        },
        "id": "elJLkIsnRmFE",
        "outputId": "25626bd1-69ec-4b6d-959c-4c9c5bb41bc8"
      },
      "source": [
        "\n",
        "batch_size = 128\n",
        "epochs = 50\n",
        "\n",
        "# Set up the callback to save the best model based on validaion data\n",
        "best_weights_filepath = './best_weights_notebook_model1.hdf5'\n",
        "mcp = ModelCheckpoint(best_weights_filepath, monitor=\"val_acc\",\n",
        "                  save_best_only=True, save_weights_only=True)\n",
        "\n",
        "start = time.time()\n",
        "lander.history = lander.model.fit(lander.X_train, lander.y_train_cat,\n",
        "      batch_size=batch_size,\n",
        "      epochs=epochs,\n",
        "      verbose = 1,\n",
        "      validation_split = 0.2,\n",
        "      shuffle=True,\n",
        "      callbacks=[mcp])\n",
        "end = time.time()\n",
        "timetaken=end - start\n",
        "lander.model.save(\"Lenet-run1.hdf5\") \n"
      ],
      "execution_count": null,
      "outputs": [
        {
          "output_type": "stream",
          "text": [
            "Epoch 1/50\n",
            "8/8 [==============================] - 42s 5s/step - loss: 0.5500 - accuracy: 0.3528 - val_loss: 0.4073 - val_accuracy: 0.4864\n",
            "WARNING:tensorflow:Can save best model only with val_acc available, skipping.\n",
            "Epoch 2/50\n",
            "8/8 [==============================] - 41s 5s/step - loss: 0.4185 - accuracy: 0.5233 - val_loss: 0.3641 - val_accuracy: 0.6537\n",
            "WARNING:tensorflow:Can save best model only with val_acc available, skipping.\n",
            "Epoch 3/50\n",
            "8/8 [==============================] - 41s 5s/step - loss: 0.3796 - accuracy: 0.6283 - val_loss: 0.3731 - val_accuracy: 0.6459\n",
            "WARNING:tensorflow:Can save best model only with val_acc available, skipping.\n",
            "Epoch 4/50\n",
            "8/8 [==============================] - 41s 5s/step - loss: 0.4002 - accuracy: 0.6322 - val_loss: 0.3524 - val_accuracy: 0.6576\n",
            "WARNING:tensorflow:Can save best model only with val_acc available, skipping.\n",
            "Epoch 5/50\n",
            "8/8 [==============================] - 41s 5s/step - loss: 0.3945 - accuracy: 0.6363 - val_loss: 0.3534 - val_accuracy: 0.6498\n",
            "WARNING:tensorflow:Can save best model only with val_acc available, skipping.\n",
            "Epoch 6/50\n",
            "8/8 [==============================] - 41s 5s/step - loss: 0.3917 - accuracy: 0.6235 - val_loss: 0.3544 - val_accuracy: 0.6498\n",
            "WARNING:tensorflow:Can save best model only with val_acc available, skipping.\n",
            "Epoch 7/50\n",
            "8/8 [==============================] - 41s 5s/step - loss: 0.3742 - accuracy: 0.6437 - val_loss: 0.3509 - val_accuracy: 0.6576\n",
            "WARNING:tensorflow:Can save best model only with val_acc available, skipping.\n",
            "Epoch 8/50\n",
            "8/8 [==============================] - 41s 5s/step - loss: 0.3606 - accuracy: 0.6555 - val_loss: 0.3544 - val_accuracy: 0.6770\n",
            "WARNING:tensorflow:Can save best model only with val_acc available, skipping.\n",
            "Epoch 9/50\n",
            "8/8 [==============================] - 41s 5s/step - loss: 0.3751 - accuracy: 0.6316 - val_loss: 0.3424 - val_accuracy: 0.6654\n",
            "WARNING:tensorflow:Can save best model only with val_acc available, skipping.\n",
            "Epoch 10/50\n",
            "8/8 [==============================] - 41s 5s/step - loss: 0.3648 - accuracy: 0.6451 - val_loss: 0.3391 - val_accuracy: 0.6770\n",
            "WARNING:tensorflow:Can save best model only with val_acc available, skipping.\n",
            "Epoch 11/50\n",
            "8/8 [==============================] - 48s 6s/step - loss: 0.3492 - accuracy: 0.6633 - val_loss: 0.3549 - val_accuracy: 0.6381\n",
            "WARNING:tensorflow:Can save best model only with val_acc available, skipping.\n",
            "Epoch 12/50\n",
            "8/8 [==============================] - 42s 5s/step - loss: 0.3424 - accuracy: 0.6798 - val_loss: 0.3367 - val_accuracy: 0.6770\n",
            "WARNING:tensorflow:Can save best model only with val_acc available, skipping.\n",
            "Epoch 13/50\n",
            "8/8 [==============================] - 41s 5s/step - loss: 0.3393 - accuracy: 0.6782 - val_loss: 0.3308 - val_accuracy: 0.7043\n",
            "WARNING:tensorflow:Can save best model only with val_acc available, skipping.\n",
            "Epoch 14/50\n",
            "8/8 [==============================] - 41s 5s/step - loss: 0.3289 - accuracy: 0.6970 - val_loss: 0.3357 - val_accuracy: 0.6576\n",
            "WARNING:tensorflow:Can save best model only with val_acc available, skipping.\n",
            "Epoch 15/50\n",
            "8/8 [==============================] - 41s 5s/step - loss: 0.3281 - accuracy: 0.6695 - val_loss: 0.3414 - val_accuracy: 0.7160\n",
            "WARNING:tensorflow:Can save best model only with val_acc available, skipping.\n",
            "Epoch 16/50\n",
            "8/8 [==============================] - 41s 5s/step - loss: 0.3150 - accuracy: 0.7074 - val_loss: 0.3293 - val_accuracy: 0.6926\n",
            "WARNING:tensorflow:Can save best model only with val_acc available, skipping.\n",
            "Epoch 17/50\n",
            "8/8 [==============================] - 41s 5s/step - loss: 0.3147 - accuracy: 0.7024 - val_loss: 0.3376 - val_accuracy: 0.6926\n",
            "WARNING:tensorflow:Can save best model only with val_acc available, skipping.\n",
            "Epoch 18/50\n",
            "8/8 [==============================] - 41s 5s/step - loss: 0.3174 - accuracy: 0.6932 - val_loss: 0.3362 - val_accuracy: 0.6887\n",
            "WARNING:tensorflow:Can save best model only with val_acc available, skipping.\n",
            "Epoch 19/50\n",
            "8/8 [==============================] - 41s 5s/step - loss: 0.3001 - accuracy: 0.6964 - val_loss: 0.3414 - val_accuracy: 0.6770\n",
            "WARNING:tensorflow:Can save best model only with val_acc available, skipping.\n",
            "Epoch 20/50\n",
            "8/8 [==============================] - 41s 5s/step - loss: 0.2990 - accuracy: 0.7274 - val_loss: 0.3466 - val_accuracy: 0.6848\n",
            "WARNING:tensorflow:Can save best model only with val_acc available, skipping.\n",
            "Epoch 21/50\n",
            "8/8 [==============================] - 41s 5s/step - loss: 0.2977 - accuracy: 0.7144 - val_loss: 0.3537 - val_accuracy: 0.6770\n",
            "WARNING:tensorflow:Can save best model only with val_acc available, skipping.\n",
            "Epoch 22/50\n",
            "8/8 [==============================] - 42s 5s/step - loss: 0.2877 - accuracy: 0.7271 - val_loss: 0.3657 - val_accuracy: 0.6926\n",
            "WARNING:tensorflow:Can save best model only with val_acc available, skipping.\n",
            "Epoch 23/50\n",
            "8/8 [==============================] - 41s 5s/step - loss: 0.2871 - accuracy: 0.7115 - val_loss: 0.3612 - val_accuracy: 0.6770\n",
            "WARNING:tensorflow:Can save best model only with val_acc available, skipping.\n",
            "Epoch 24/50\n",
            "8/8 [==============================] - 41s 5s/step - loss: 0.2753 - accuracy: 0.7226 - val_loss: 0.3617 - val_accuracy: 0.6926\n",
            "WARNING:tensorflow:Can save best model only with val_acc available, skipping.\n",
            "Epoch 25/50\n",
            "8/8 [==============================] - 41s 5s/step - loss: 0.2619 - accuracy: 0.7464 - val_loss: 0.3834 - val_accuracy: 0.6809\n",
            "WARNING:tensorflow:Can save best model only with val_acc available, skipping.\n",
            "Epoch 26/50\n",
            "8/8 [==============================] - 41s 5s/step - loss: 0.2675 - accuracy: 0.7352 - val_loss: 0.3977 - val_accuracy: 0.6615\n",
            "WARNING:tensorflow:Can save best model only with val_acc available, skipping.\n",
            "Epoch 27/50\n",
            "8/8 [==============================] - 41s 5s/step - loss: 0.2589 - accuracy: 0.7529 - val_loss: 0.3812 - val_accuracy: 0.6848\n",
            "WARNING:tensorflow:Can save best model only with val_acc available, skipping.\n",
            "Epoch 28/50\n",
            "8/8 [==============================] - 41s 5s/step - loss: 0.2428 - accuracy: 0.7708 - val_loss: 0.4021 - val_accuracy: 0.6615\n",
            "WARNING:tensorflow:Can save best model only with val_acc available, skipping.\n",
            "Epoch 29/50\n",
            "8/8 [==============================] - 41s 5s/step - loss: 0.2454 - accuracy: 0.7642 - val_loss: 0.4171 - val_accuracy: 0.6537\n",
            "WARNING:tensorflow:Can save best model only with val_acc available, skipping.\n",
            "Epoch 30/50\n",
            "8/8 [==============================] - 41s 5s/step - loss: 0.2419 - accuracy: 0.7720 - val_loss: 0.4300 - val_accuracy: 0.6615\n",
            "WARNING:tensorflow:Can save best model only with val_acc available, skipping.\n",
            "Epoch 31/50\n",
            "8/8 [==============================] - 41s 5s/step - loss: 0.2344 - accuracy: 0.7746 - val_loss: 0.4244 - val_accuracy: 0.6770\n",
            "WARNING:tensorflow:Can save best model only with val_acc available, skipping.\n",
            "Epoch 32/50\n",
            "8/8 [==============================] - 41s 5s/step - loss: 0.2239 - accuracy: 0.7704 - val_loss: 0.4411 - val_accuracy: 0.6615\n",
            "WARNING:tensorflow:Can save best model only with val_acc available, skipping.\n",
            "Epoch 33/50\n",
            "8/8 [==============================] - 41s 5s/step - loss: 0.2274 - accuracy: 0.7843 - val_loss: 0.4411 - val_accuracy: 0.6576\n",
            "WARNING:tensorflow:Can save best model only with val_acc available, skipping.\n",
            "Epoch 34/50\n",
            "8/8 [==============================] - 41s 5s/step - loss: 0.2141 - accuracy: 0.8072 - val_loss: 0.4661 - val_accuracy: 0.6693\n",
            "WARNING:tensorflow:Can save best model only with val_acc available, skipping.\n",
            "Epoch 35/50\n",
            "8/8 [==============================] - 41s 5s/step - loss: 0.2287 - accuracy: 0.7821 - val_loss: 0.4437 - val_accuracy: 0.6420\n",
            "WARNING:tensorflow:Can save best model only with val_acc available, skipping.\n",
            "Epoch 36/50\n",
            "8/8 [==============================] - 41s 5s/step - loss: 0.2101 - accuracy: 0.7874 - val_loss: 0.4787 - val_accuracy: 0.6576\n",
            "WARNING:tensorflow:Can save best model only with val_acc available, skipping.\n",
            "Epoch 37/50\n",
            "8/8 [==============================] - 41s 5s/step - loss: 0.2128 - accuracy: 0.7905 - val_loss: 0.4833 - val_accuracy: 0.6420\n",
            "WARNING:tensorflow:Can save best model only with val_acc available, skipping.\n",
            "Epoch 38/50\n",
            "8/8 [==============================] - 41s 5s/step - loss: 0.2139 - accuracy: 0.7833 - val_loss: 0.4883 - val_accuracy: 0.6693\n",
            "WARNING:tensorflow:Can save best model only with val_acc available, skipping.\n",
            "Epoch 39/50\n",
            "8/8 [==============================] - 41s 5s/step - loss: 0.1945 - accuracy: 0.8151 - val_loss: 0.5015 - val_accuracy: 0.6498\n",
            "WARNING:tensorflow:Can save best model only with val_acc available, skipping.\n",
            "Epoch 40/50\n",
            "8/8 [==============================] - 41s 5s/step - loss: 0.1942 - accuracy: 0.8112 - val_loss: 0.5344 - val_accuracy: 0.6342\n",
            "WARNING:tensorflow:Can save best model only with val_acc available, skipping.\n",
            "Epoch 41/50\n",
            "8/8 [==============================] - 41s 5s/step - loss: 0.1960 - accuracy: 0.8221 - val_loss: 0.5449 - val_accuracy: 0.6459\n",
            "WARNING:tensorflow:Can save best model only with val_acc available, skipping.\n",
            "Epoch 42/50\n",
            "8/8 [==============================] - 41s 5s/step - loss: 0.1965 - accuracy: 0.8115 - val_loss: 0.5221 - val_accuracy: 0.6342\n",
            "WARNING:tensorflow:Can save best model only with val_acc available, skipping.\n",
            "Epoch 43/50\n",
            "8/8 [==============================] - 41s 5s/step - loss: 0.1914 - accuracy: 0.8180 - val_loss: 0.5197 - val_accuracy: 0.6381\n",
            "WARNING:tensorflow:Can save best model only with val_acc available, skipping.\n",
            "Epoch 44/50\n",
            "8/8 [==============================] - 41s 5s/step - loss: 0.1844 - accuracy: 0.8271 - val_loss: 0.5615 - val_accuracy: 0.6420\n",
            "WARNING:tensorflow:Can save best model only with val_acc available, skipping.\n",
            "Epoch 45/50\n",
            "8/8 [==============================] - 41s 5s/step - loss: 0.1759 - accuracy: 0.8239 - val_loss: 0.5733 - val_accuracy: 0.6381\n",
            "WARNING:tensorflow:Can save best model only with val_acc available, skipping.\n",
            "Epoch 46/50\n",
            "8/8 [==============================] - 41s 5s/step - loss: 0.1783 - accuracy: 0.8300 - val_loss: 0.5401 - val_accuracy: 0.6265\n",
            "WARNING:tensorflow:Can save best model only with val_acc available, skipping.\n",
            "Epoch 47/50\n",
            "8/8 [==============================] - 41s 5s/step - loss: 0.1750 - accuracy: 0.8391 - val_loss: 0.5991 - val_accuracy: 0.6459\n",
            "WARNING:tensorflow:Can save best model only with val_acc available, skipping.\n",
            "Epoch 48/50\n",
            "8/8 [==============================] - 41s 5s/step - loss: 0.1678 - accuracy: 0.8474 - val_loss: 0.6007 - val_accuracy: 0.6381\n",
            "WARNING:tensorflow:Can save best model only with val_acc available, skipping.\n",
            "Epoch 49/50\n",
            "8/8 [==============================] - 41s 5s/step - loss: 0.1673 - accuracy: 0.8285 - val_loss: 0.6434 - val_accuracy: 0.6381\n",
            "WARNING:tensorflow:Can save best model only with val_acc available, skipping.\n",
            "Epoch 50/50\n",
            "8/8 [==============================] - 41s 5s/step - loss: 0.1664 - accuracy: 0.8350 - val_loss: 0.6182 - val_accuracy: 0.6304\n",
            "WARNING:tensorflow:Can save best model only with val_acc available, skipping.\n"
          ],
          "name": "stdout"
        }
      ]
    },
    {
      "cell_type": "markdown",
      "metadata": {
        "id": "PJqGIR96G9g1"
      },
      "source": [
        "Count of labels checking distribution of the y_data that contains the various state of the game for without fixing class imbalance for LENET-5 model\n",
        "\n",
        "\n",
        "*   0 -none\n",
        "*   1 -up\n",
        "*   2 -left\n",
        "*  3 -right"
      ]
    },
    {
      "cell_type": "code",
      "metadata": {
        "colab": {
          "background_save": true,
          "base_uri": "https://localhost:8080/"
        },
        "id": "FDQYNocXR0zR",
        "outputId": "201278ed-eaf8-47b9-9565-56ee28da0f3b"
      },
      "source": [
        "import seaborn as sb\n",
        "sb.countplot(lander.y_data)\n",
        "plt.show()"
      ],
      "execution_count": null,
      "outputs": [
        {
          "output_type": "stream",
          "text": [
            "/usr/local/lib/python3.7/dist-packages/seaborn/_decorators.py:43: FutureWarning: Pass the following variable as a keyword arg: x. From version 0.12, the only valid positional argument will be `data`, and passing other arguments without an explicit keyword will result in an error or misinterpretation.\n",
            "  FutureWarning\n"
          ],
          "name": "stderr"
        },
        {
          "output_type": "display_data",
          "data": {
            "image/png": "[encoded data removed]",
            "text/plain": [
              "<Figure size 432x288 with 1 Axes>"
            ]
          },
          "metadata": {
            "tags": []
          }
        }
      ]
    },
    {
      "cell_type": "code",
      "metadata": {
        "id": "s_3jU8AESHj_"
      },
      "source": [
        "plt.plot(lander.history.history['accuracy'])\n",
        "plt.plot(lander.history.history['val_accuracy'])\n",
        "plt.title('Lenet-5 model accuracy without fixing class imbalance')\n",
        "plt.ylabel('accuracy')\n",
        "plt.xlabel('epoch')\n",
        "plt.legend(['train', 'Validation'], loc='upper left')\n",
        "plt.show()"
      ],
      "execution_count": null,
      "outputs": []
    },
    {
      "cell_type": "code",
      "metadata": {
        "colab": {
          "background_save": true,
          "base_uri": "https://localhost:8080/"
        },
        "id": "zc_a2kChSP-Q",
        "outputId": "29ebc5bf-2689-472e-91bc-c1a1aaaba2f4"
      },
      "source": [
        "plt.plot(lander.history.history['loss'])\n",
        "plt.plot(lander.history.history['val_loss'])\n",
        "plt.title('Lenet-5 model loss')\n",
        "plt.ylabel('loss')\n",
        "plt.xlabel('epoch')\n",
        "plt.legend(['train', 'Validation'], loc='upper left')\n",
        "plt.show()"
      ],
      "execution_count": null,
      "outputs": [
        {
          "output_type": "display_data",
          "data": {
            "image/png": "[encoded data removed]",
            "text/plain": [
              "<Figure size 432x288 with 1 Axes>"
            ]
          },
          "metadata": {
            "tags": []
          }
        }
      ]
    },
    {
      "cell_type": "markdown",
      "metadata": {
        "id": "zUOBjBptG8BY"
      },
      "source": [
        "We are getting 81.1% Accuracy by LENET-5 model without fixing class imbalance on training set. But their is class imbalance problem in the dataset, so we need to fix that problem. We can see from the confusion matrix, our model is not able to predict class 1 and class 3. Instead of them, it is simply predicting the majority class which is class 0 and class 2.\n",
        "\n",
        "Also, we are getting accuracy of 63 on test set without fixing class imbalance for lenet-5 model.\n",
        "\n",
        "```\n",
        "# This is formatted as code\n",
        "```\n",
        "\n"
      ]
    },
    {
      "cell_type": "code",
      "metadata": {
        "colab": {
          "background_save": true
        },
        "id": "iLCY0f4cSVVG",
        "outputId": "7efc0824-a516-4b54-a61e-3552e53a81cc"
      },
      "source": [
        "import tensorflow as tf\n",
        "from tensorflow import keras\n",
        "\n",
        "myModel = tf.keras.models.load_model(\"./Lenet-run1.hdf5\")\n",
        "\n",
        "myModel.compile(loss='binary_crossentropy', optimizer='rmsprop', metrics=['accuracy'])\n",
        "score = myModel.evaluate(lander.X_train, lander.y_train_cat, verbose=0)\n",
        "print(\"Lenet accuracy on training set %s: %.2f%%\" % (myModel.metrics_names[1], score[1]*100))\n",
        "print(\"************\")\n",
        "print(\"************\")\n",
        "print(\"************\")\n",
        "\n",
        "lander.y_pred = myModel.predict_classes(lander.X_test)\n",
        "# Print performance details\n",
        "accuracy = metrics.accuracy_score(lander.y_test_encoded, lander.y_pred) # , normalize=True, sample_weight=None\n",
        "lander.model_test_accuracy_comparision[\"Lenet-5\"] = accuracy\n",
        "print(\"Lenet accuracy on test set \" +  str(accuracy))\n",
        "print(\"************\")\n",
        "print(\"************\")\n",
        "print(\"************\")\n",
        "\n",
        "print(\"Lenet classfication report \"+metrics.classification_report(lander.y_test_encoded, lander.y_pred))\n",
        "report = metrics.classification_report(lander.y_test_encoded, lander.y_pred)\n",
        "lander.model_test_recall_comparision[\"Lenet-5\"] = report.split('\\n')[-2].split('      ')[2]\n",
        "lander.model_test_f1_score_comparision[\"Lenet-5\"] = report.split('\\n')[-2].split('      ')[3]\n",
        "print(\"Confusion Matrix\")\n",
        "pd.crosstab(np.array(lander.y_test_encoded), lander.y_pred, rownames=['True'], colnames=['Predicted'], margins=True)"
      ],
      "execution_count": null,
      "outputs": [
        {
          "output_type": "stream",
          "text": [
            "Lenet accuracy on training set accuracy: 81.11%\n",
            "************\n",
            "************\n",
            "************\n"
          ],
          "name": "stdout"
        },
        {
          "output_type": "stream",
          "text": [
            "/usr/local/lib/python3.7/dist-packages/tensorflow/python/keras/engine/sequential.py:450: UserWarning: `model.predict_classes()` is deprecated and will be removed after 2021-01-01. Please use instead:* `np.argmax(model.predict(x), axis=-1)`,   if your model does multi-class classification   (e.g. if it uses a `softmax` last-layer activation).* `(model.predict(x) > 0.5).astype(\"int32\")`,   if your model does binary classification   (e.g. if it uses a `sigmoid` last-layer activation).\n",
            "  warnings.warn('`model.predict_classes()` is deprecated and '\n"
          ],
          "name": "stderr"
        },
        {
          "output_type": "stream",
          "text": [
            "Lenet accuracy on test set 0.6302367941712204\n",
            "Lenet classfication report               precision    recall  f1-score   support\n",
            "\n",
            "           0       0.62      0.68      0.65       253\n",
            "           1       0.50      0.13      0.21        15\n",
            "           2       0.65      0.64      0.65       266\n",
            "           3       0.17      0.07      0.10        15\n",
            "\n",
            "    accuracy                           0.63       549\n",
            "   macro avg       0.49      0.38      0.40       549\n",
            "weighted avg       0.62      0.63      0.62       549\n",
            "\n",
            "Confusion Matrix\n"
          ],
          "name": "stdout"
        },
        {
          "output_type": "execute_result",
          "data": {
            "text/html": [
              "<div>\n",
              "<style scoped>\n",
              "    .dataframe tbody tr th:only-of-type {\n",
              "        vertical-align: middle;\n",
              "    }\n",
              "\n",
              "    .dataframe tbody tr th {\n",
              "        vertical-align: top;\n",
              "    }\n",
              "\n",
              "    .dataframe thead th {\n",
              "        text-align: right;\n",
              "    }\n",
              "</style>\n",
              "<table border=\"1\" class=\"dataframe\">\n",
              "  <thead>\n",
              "    <tr style=\"text-align: right;\">\n",
              "      <th>Predicted</th>\n",
              "      <th>0</th>\n",
              "      <th>1</th>\n",
              "      <th>2</th>\n",
              "      <th>3</th>\n",
              "      <th>All</th>\n",
              "    </tr>\n",
              "    <tr>\n",
              "      <th>True</th>\n",
              "      <th></th>\n",
              "      <th></th>\n",
              "      <th></th>\n",
              "      <th></th>\n",
              "      <th></th>\n",
              "    </tr>\n",
              "  </thead>\n",
              "  <tbody>\n",
              "    <tr>\n",
              "      <th>0</th>\n",
              "      <td>172</td>\n",
              "      <td>0</td>\n",
              "      <td>79</td>\n",
              "      <td>2</td>\n",
              "      <td>253</td>\n",
              "    </tr>\n",
              "    <tr>\n",
              "      <th>1</th>\n",
              "      <td>6</td>\n",
              "      <td>2</td>\n",
              "      <td>7</td>\n",
              "      <td>0</td>\n",
              "      <td>15</td>\n",
              "    </tr>\n",
              "    <tr>\n",
              "      <th>2</th>\n",
              "      <td>90</td>\n",
              "      <td>2</td>\n",
              "      <td>171</td>\n",
              "      <td>3</td>\n",
              "      <td>266</td>\n",
              "    </tr>\n",
              "    <tr>\n",
              "      <th>3</th>\n",
              "      <td>8</td>\n",
              "      <td>0</td>\n",
              "      <td>6</td>\n",
              "      <td>1</td>\n",
              "      <td>15</td>\n",
              "    </tr>\n",
              "    <tr>\n",
              "      <th>All</th>\n",
              "      <td>276</td>\n",
              "      <td>4</td>\n",
              "      <td>263</td>\n",
              "      <td>6</td>\n",
              "      <td>549</td>\n",
              "    </tr>\n",
              "  </tbody>\n",
              "</table>\n",
              "</div>"
            ],
            "text/plain": [
              "Predicted    0  1    2  3  All\n",
              "True                          \n",
              "0          172  0   79  2  253\n",
              "1            6  2    7  0   15\n",
              "2           90  2  171  3  266\n",
              "3            8  0    6  1   15\n",
              "All        276  4  263  6  549"
            ]
          },
          "metadata": {
            "tags": []
          },
          "execution_count": 0
        }
      ]
    },
    {
      "cell_type": "markdown",
      "metadata": {
        "id": "82TQfth3SYUL"
      },
      "source": [
        ""
      ]
    },
    {
      "cell_type": "code",
      "metadata": {
        "colab": {
          "background_save": true
        },
        "id": "RimNm6h9LeKn",
        "outputId": "4b6c5dc9-696f-4812-9297-bbe42973095b"
      },
      "source": [
        "\n",
        "from imblearn.under_sampling import RandomUnderSampler\n",
        "\n",
        "rus = RandomUnderSampler(return_indices=True)\n",
        "X_train_rus, y_train_rus, id_rus =rus.fit_sample(lander.X_train.reshape(len(lander.X_train), lander.X_train.shape[1]*lander.X_train.shape[2]*lander.X_train.shape[3]), lander.y_train)\n",
        "\n",
        "print(X_train_rus.shape)\n",
        "print(y_train_rus.shape)\n",
        "\n",
        "X_train_rus, y_train_rus = shuffle(X_train_rus, y_train_rus)\n",
        "\n",
        "X_train_rus = X_train_rus.reshape(len(X_train_rus),lander.ROWS, lander.COLS,lander.CHANNELS)\n",
        "X_rus, Y_rus = X_train_rus, y_train_rus\n",
        "\n",
        "X_train_rus, X_test_rus, y_train_rus ,y_test_rus = train_test_split(X_rus,Y_rus,train_size=0.70,test_size = 0.30,random_state = 1)\n",
        "\n",
        "from tensorflow.python.keras import utils \n",
        "lb = sklearn.preprocessing.LabelEncoder()\n",
        "\n",
        "y_train_rus_encoded = lb.fit_transform(y_train_rus)\n",
        "y_test_rus_encoded = lb.fit_transform(y_test_rus)\n",
        "\n",
        "y_train_rus_cat = utils.np_utils.to_categorical(y_train_rus_encoded,lander.nb_classes)\n",
        "y_test_rus_cat = utils.np_utils.to_categorical(y_test_rus_encoded,lander.nb_classes)\n",
        "batch_size = 64\n",
        "epochs = 50\n",
        "\n",
        "\n",
        "\n",
        "# Set up the callback to save the best model based on validaion data\n",
        "\n",
        "\n",
        "start = time.time()\n",
        "lander.history = lander.model.fit(X_train_rus, y_train_rus_cat,\n",
        "      batch_size=batch_size,\n",
        "      epochs=epochs,\n",
        "      verbose = 1,\n",
        "      validation_split = 0.2,\n",
        "      shuffle=True)\n",
        "end = time.time()\n",
        "timetaken=end - start\n",
        "lander.model.save(\"Lenet-oversampling-run1.hdf5\")\n"
      ],
      "execution_count": null,
      "outputs": [
        {
          "output_type": "stream",
          "text": [
            "(116, 20736)\n",
            "(116,)\n",
            "Epoch 1/50\n"
          ],
          "name": "stdout"
        },
        {
          "output_type": "stream",
          "text": [
            "/usr/local/lib/python3.7/dist-packages/sklearn/utils/deprecation.py:87: FutureWarning: Function safe_indexing is deprecated; safe_indexing is deprecated in version 0.22 and will be removed in version 0.24.\n",
            "  warnings.warn(msg, category=FutureWarning)\n"
          ],
          "name": "stderr"
        },
        {
          "output_type": "stream",
          "text": [
            "1/1 [==============================] - 3s 3s/step - loss: 0.4916 - accuracy: 0.7031 - val_loss: 0.4379 - val_accuracy: 0.7059\n",
            "Epoch 2/50\n",
            "1/1 [==============================] - 3s 3s/step - loss: 0.4108 - accuracy: 0.7500 - val_loss: 0.3693 - val_accuracy: 0.7059\n",
            "Epoch 3/50\n",
            "1/1 [==============================] - 3s 3s/step - loss: 0.3435 - accuracy: 0.7500 - val_loss: 0.3501 - val_accuracy: 0.7647\n",
            "Epoch 4/50\n",
            "1/1 [==============================] - 3s 3s/step - loss: 0.2834 - accuracy: 0.8125 - val_loss: 0.3550 - val_accuracy: 0.7647\n",
            "Epoch 5/50\n",
            "1/1 [==============================] - 3s 3s/step - loss: 0.2489 - accuracy: 0.8125 - val_loss: 0.3621 - val_accuracy: 0.8235\n",
            "Epoch 6/50\n",
            "1/1 [==============================] - 3s 3s/step - loss: 0.2168 - accuracy: 0.8594 - val_loss: 0.3692 - val_accuracy: 0.7059\n",
            "Epoch 7/50\n",
            "1/1 [==============================] - 3s 3s/step - loss: 0.2322 - accuracy: 0.8438 - val_loss: 0.3788 - val_accuracy: 0.7059\n",
            "Epoch 8/50\n",
            "1/1 [==============================] - 3s 3s/step - loss: 0.1987 - accuracy: 0.9219 - val_loss: 0.3897 - val_accuracy: 0.7059\n",
            "Epoch 9/50\n",
            "1/1 [==============================] - 3s 3s/step - loss: 0.1942 - accuracy: 0.9219 - val_loss: 0.4077 - val_accuracy: 0.6471\n",
            "Epoch 10/50\n",
            "1/1 [==============================] - 3s 3s/step - loss: 0.1668 - accuracy: 0.9062 - val_loss: 0.4359 - val_accuracy: 0.6471\n",
            "Epoch 11/50\n",
            "1/1 [==============================] - 3s 3s/step - loss: 0.1395 - accuracy: 0.9062 - val_loss: 0.4791 - val_accuracy: 0.5294\n",
            "Epoch 12/50\n",
            "1/1 [==============================] - 3s 3s/step - loss: 0.1312 - accuracy: 0.9375 - val_loss: 0.5258 - val_accuracy: 0.5294\n",
            "Epoch 13/50\n",
            "1/1 [==============================] - 3s 3s/step - loss: 0.1080 - accuracy: 0.9688 - val_loss: 0.5702 - val_accuracy: 0.5294\n",
            "Epoch 14/50\n",
            "1/1 [==============================] - 3s 3s/step - loss: 0.1095 - accuracy: 0.9375 - val_loss: 0.6089 - val_accuracy: 0.5294\n",
            "Epoch 15/50\n",
            "1/1 [==============================] - 3s 3s/step - loss: 0.0878 - accuracy: 1.0000 - val_loss: 0.6484 - val_accuracy: 0.5294\n",
            "Epoch 16/50\n",
            "1/1 [==============================] - 3s 3s/step - loss: 0.0826 - accuracy: 0.9688 - val_loss: 0.6608 - val_accuracy: 0.5882\n",
            "Epoch 17/50\n",
            "1/1 [==============================] - 3s 3s/step - loss: 0.0737 - accuracy: 0.9375 - val_loss: 0.6649 - val_accuracy: 0.5294\n",
            "Epoch 18/50\n",
            "1/1 [==============================] - 3s 3s/step - loss: 0.0761 - accuracy: 0.9688 - val_loss: 0.6731 - val_accuracy: 0.5294\n",
            "Epoch 19/50\n",
            "1/1 [==============================] - 3s 3s/step - loss: 0.0690 - accuracy: 0.9688 - val_loss: 0.6904 - val_accuracy: 0.4706\n",
            "Epoch 20/50\n",
            "1/1 [==============================] - 3s 3s/step - loss: 0.0534 - accuracy: 0.9688 - val_loss: 0.7070 - val_accuracy: 0.5294\n",
            "Epoch 21/50\n",
            "1/1 [==============================] - 3s 3s/step - loss: 0.0615 - accuracy: 0.9375 - val_loss: 0.7407 - val_accuracy: 0.5294\n",
            "Epoch 22/50\n",
            "1/1 [==============================] - 3s 3s/step - loss: 0.0367 - accuracy: 1.0000 - val_loss: 0.7960 - val_accuracy: 0.5294\n",
            "Epoch 23/50\n",
            "1/1 [==============================] - 3s 3s/step - loss: 0.0465 - accuracy: 0.9688 - val_loss: 0.8411 - val_accuracy: 0.5294\n",
            "Epoch 24/50\n",
            "1/1 [==============================] - 3s 3s/step - loss: 0.0448 - accuracy: 0.9531 - val_loss: 0.8693 - val_accuracy: 0.5294\n",
            "Epoch 25/50\n",
            "1/1 [==============================] - 3s 3s/step - loss: 0.0458 - accuracy: 0.9688 - val_loss: 0.8891 - val_accuracy: 0.5294\n",
            "Epoch 26/50\n",
            "1/1 [==============================] - 3s 3s/step - loss: 0.0361 - accuracy: 0.9688 - val_loss: 0.9035 - val_accuracy: 0.5294\n",
            "Epoch 27/50\n",
            "1/1 [==============================] - 3s 3s/step - loss: 0.0427 - accuracy: 0.9844 - val_loss: 0.9118 - val_accuracy: 0.5294\n",
            "Epoch 28/50\n",
            "1/1 [==============================] - 3s 3s/step - loss: 0.0317 - accuracy: 1.0000 - val_loss: 0.9371 - val_accuracy: 0.5294\n",
            "Epoch 29/50\n",
            "1/1 [==============================] - 3s 3s/step - loss: 0.0266 - accuracy: 0.9844 - val_loss: 0.9675 - val_accuracy: 0.4706\n",
            "Epoch 30/50\n",
            "1/1 [==============================] - 3s 3s/step - loss: 0.0293 - accuracy: 0.9688 - val_loss: 0.9859 - val_accuracy: 0.4706\n",
            "Epoch 31/50\n",
            "1/1 [==============================] - 3s 3s/step - loss: 0.0282 - accuracy: 0.9844 - val_loss: 0.9960 - val_accuracy: 0.4706\n",
            "Epoch 32/50\n",
            "1/1 [==============================] - 3s 3s/step - loss: 0.0165 - accuracy: 1.0000 - val_loss: 0.9974 - val_accuracy: 0.4118\n",
            "Epoch 33/50\n",
            "1/1 [==============================] - 3s 3s/step - loss: 0.0311 - accuracy: 0.9844 - val_loss: 0.9854 - val_accuracy: 0.4118\n",
            "Epoch 34/50\n",
            "1/1 [==============================] - 3s 3s/step - loss: 0.0239 - accuracy: 1.0000 - val_loss: 0.9874 - val_accuracy: 0.4118\n",
            "Epoch 35/50\n",
            "1/1 [==============================] - 3s 3s/step - loss: 0.0232 - accuracy: 0.9844 - val_loss: 0.9924 - val_accuracy: 0.4118\n",
            "Epoch 36/50\n",
            "1/1 [==============================] - 3s 3s/step - loss: 0.0162 - accuracy: 0.9844 - val_loss: 1.0064 - val_accuracy: 0.4118\n",
            "Epoch 37/50\n",
            "1/1 [==============================] - 3s 3s/step - loss: 0.0252 - accuracy: 0.9844 - val_loss: 1.0164 - val_accuracy: 0.4118\n",
            "Epoch 38/50\n",
            "1/1 [==============================] - 3s 3s/step - loss: 0.0317 - accuracy: 0.9844 - val_loss: 1.0375 - val_accuracy: 0.3529\n",
            "Epoch 39/50\n",
            "1/1 [==============================] - 3s 3s/step - loss: 0.0246 - accuracy: 0.9844 - val_loss: 1.0865 - val_accuracy: 0.3529\n",
            "Epoch 40/50\n",
            "1/1 [==============================] - 3s 3s/step - loss: 0.0156 - accuracy: 1.0000 - val_loss: 1.1464 - val_accuracy: 0.3529\n",
            "Epoch 41/50\n",
            "1/1 [==============================] - 3s 3s/step - loss: 0.0114 - accuracy: 1.0000 - val_loss: 1.1942 - val_accuracy: 0.4118\n",
            "Epoch 42/50\n",
            "1/1 [==============================] - 3s 3s/step - loss: 0.0182 - accuracy: 0.9844 - val_loss: 1.2212 - val_accuracy: 0.4118\n",
            "Epoch 43/50\n",
            "1/1 [==============================] - 3s 3s/step - loss: 0.0125 - accuracy: 1.0000 - val_loss: 1.2271 - val_accuracy: 0.4118\n",
            "Epoch 44/50\n",
            "1/1 [==============================] - 3s 3s/step - loss: 0.0303 - accuracy: 0.9844 - val_loss: 1.2249 - val_accuracy: 0.4118\n",
            "Epoch 45/50\n",
            "1/1 [==============================] - 3s 3s/step - loss: 0.0169 - accuracy: 1.0000 - val_loss: 1.2331 - val_accuracy: 0.4118\n",
            "Epoch 46/50\n",
            "1/1 [==============================] - 3s 3s/step - loss: 0.0125 - accuracy: 1.0000 - val_loss: 1.2441 - val_accuracy: 0.4118\n",
            "Epoch 47/50\n",
            "1/1 [==============================] - 3s 3s/step - loss: 0.0105 - accuracy: 1.0000 - val_loss: 1.2574 - val_accuracy: 0.4118\n",
            "Epoch 48/50\n",
            "1/1 [==============================] - 3s 3s/step - loss: 0.0267 - accuracy: 0.9844 - val_loss: 1.2659 - val_accuracy: 0.4118\n",
            "Epoch 49/50\n",
            "1/1 [==============================] - 3s 3s/step - loss: 0.0074 - accuracy: 1.0000 - val_loss: 1.2821 - val_accuracy: 0.4118\n",
            "Epoch 50/50\n",
            "1/1 [==============================] - 3s 3s/step - loss: 0.0066 - accuracy: 1.0000 - val_loss: 1.3058 - val_accuracy: 0.3529\n"
          ],
          "name": "stdout"
        }
      ]
    },
    {
      "cell_type": "code",
      "metadata": {
        "colab": {
          "background_save": true
        },
        "id": "p_Cth1yZUkVt",
        "outputId": "cad089d3-c6be-4a56-926b-ff0aece82bec"
      },
      "source": [
        "import seaborn as sb\n",
        "sb.countplot(Y_rus)\n",
        "plt.show()"
      ],
      "execution_count": null,
      "outputs": [
        {
          "output_type": "stream",
          "text": [
            "/usr/local/lib/python3.7/dist-packages/seaborn/_decorators.py:43: FutureWarning: Pass the following variable as a keyword arg: x. From version 0.12, the only valid positional argument will be `data`, and passing other arguments without an explicit keyword will result in an error or misinterpretation.\n",
            "  FutureWarning\n"
          ],
          "name": "stderr"
        },
        {
          "output_type": "display_data",
          "data": {
            "image/png": "[encoded data removed]",
            "text/plain": [
              "<Figure size 432x288 with 1 Axes>"
            ]
          },
          "metadata": {
            "tags": []
          }
        }
      ]
    },
    {
      "cell_type": "code",
      "metadata": {
        "colab": {
          "background_save": true
        },
        "id": "xiL5bWHPV5K0",
        "outputId": "160e83a2-2d7e-4906-a26d-95277d6de9c0"
      },
      "source": [
        "plt.plot(lander.history.history['accuracy'])\n",
        "plt.plot(lander.history.history['val_accuracy'])\n",
        "plt.title('Lenet-5 model accuracy after Undersampling')\n",
        "plt.ylabel('accuracy')\n",
        "plt.xlabel('epoch')\n",
        "plt.legend(['train', 'Validation'], loc='upper left')\n",
        "plt.show()"
      ],
      "execution_count": null,
      "outputs": [
        {
          "output_type": "display_data",
          "data": {
            "image/png": "[encoded data removed]",
            "text/plain": [
              "<Figure size 432x288 with 1 Axes>"
            ]
          },
          "metadata": {
            "tags": []
          }
        }
      ]
    },
    {
      "cell_type": "code",
      "metadata": {
        "colab": {
          "background_save": true
        },
        "id": "SlkHVNtrV8cZ",
        "outputId": "e12064fb-e7d8-45c2-a5a4-9e73d80d0198"
      },
      "source": [
        "plt.plot(lander.history.history['loss'])\n",
        "plt.plot(lander.history.history['val_loss'])\n",
        "plt.title('Lenet-5 model loss after Undersampling ')\n",
        "plt.ylabel('loss')\n",
        "plt.xlabel('epoch')\n",
        "plt.legend(['train', 'Validation'], loc='upper left')\n",
        "plt.show()"
      ],
      "execution_count": null,
      "outputs": [
        {
          "output_type": "display_data",
          "data": {
            "image/png": "[encoded data removed]",
            "text/plain": [
              "<Figure size 432x288 with 1 Axes>"
            ]
          },
          "metadata": {
            "tags": []
          }
        }
      ]
    },
    {
      "cell_type": "code",
      "metadata": {
        "colab": {
          "background_save": true
        },
        "id": "x7MjbpSgvScZ",
        "outputId": "e71dc3c5-0d8f-467d-f07d-820f4527e4ef"
      },
      "source": [
        "import tensorflow as tf\n",
        "from tensorflow import keras\n",
        "\n",
        "myModel_undersamp = tf.keras.models.load_model(\"./Lenet-oversampling-run1.hdf5\")\n",
        "\n",
        "myModel_undersamp.compile(loss='binary_crossentropy', optimizer='rmsprop', metrics=['accuracy'])\n",
        "score = myModel_undersamp.evaluate(X_train_rus, y_train_rus_cat, verbose=0)\n",
        "print(\"Lenet accuracy on training set after undersampling %s: %.2f%%\" % (myModel_undersamp.metrics_names[1], score[1]*100))\n",
        "print(\"************\")\n",
        "print(\"************\")\n",
        "print(\"************\")\n",
        "\n",
        "y_pred = myModel_undersamp.predict_classes(X_test_rus)\n",
        "# Print performance details\n",
        "\n",
        "print(len(y_pred))\n",
        "print(len(y_test_rus_encoded))\n",
        "accuracy = metrics.accuracy_score(y_test_rus_encoded , y_pred) # , normalize=True, sample_weight=None\n",
        "lander.model_test_accuracy_comparision[\"Lenet-5-undersample\"] = accuracy\n",
        "print(\"Lenet accuracy on test set after undersampling\" +  str(accuracy))\n",
        "\n",
        "print(\"Lenet classfication report after undersampling\"+metrics.classification_report(y_test_rus_encoded , y_pred))\n",
        "report = metrics.classification_report(y_test_rus_encoded , y_pred)\n",
        "lander.model_test_recall_comparision[\"Lenet-5-undersampled\"] = report.split('\\n')[-2].split('      ')[2]\n",
        "lander.model_test_f1_score_comparision[\"Lenet-5-undersampled\"] = report.split('\\n')[-2].split('      ')[3]\n",
        "print(\"Confusion Matrix\")\n",
        "pd.crosstab(np.array(y_test_rus_encoded), y_pred, rownames=['True'], colnames=['Predicted'], margins=True)"
      ],
      "execution_count": null,
      "outputs": [
        {
          "output_type": "stream",
          "text": [
            "Lenet accuracy on training set after undersampling accuracy: 86.42%\n",
            "************\n",
            "************\n",
            "************\n"
          ],
          "name": "stdout"
        },
        {
          "output_type": "stream",
          "text": [
            "/usr/local/lib/python3.7/dist-packages/tensorflow/python/keras/engine/sequential.py:450: UserWarning: `model.predict_classes()` is deprecated and will be removed after 2021-01-01. Please use instead:* `np.argmax(model.predict(x), axis=-1)`,   if your model does multi-class classification   (e.g. if it uses a `softmax` last-layer activation).* `(model.predict(x) > 0.5).astype(\"int32\")`,   if your model does binary classification   (e.g. if it uses a `sigmoid` last-layer activation).\n",
            "  warnings.warn('`model.predict_classes()` is deprecated and '\n"
          ],
          "name": "stderr"
        },
        {
          "output_type": "stream",
          "text": [
            "35\n",
            "35\n",
            "Lenet accuracy on test set after undersampling0.5142857142857142\n",
            "Lenet classfication report after undersampling              precision    recall  f1-score   support\n",
            "\n",
            "           0       0.36      0.71      0.48         7\n",
            "           1       0.60      0.38      0.46         8\n",
            "           2       0.70      0.64      0.67        11\n",
            "           3       0.50      0.33      0.40         9\n",
            "\n",
            "    accuracy                           0.51        35\n",
            "   macro avg       0.54      0.51      0.50        35\n",
            "weighted avg       0.56      0.51      0.51        35\n",
            "\n",
            "Confusion Matrix\n"
          ],
          "name": "stdout"
        },
        {
          "output_type": "execute_result",
          "data": {
            "text/html": [
              "<div>\n",
              "<style scoped>\n",
              "    .dataframe tbody tr th:only-of-type {\n",
              "        vertical-align: middle;\n",
              "    }\n",
              "\n",
              "    .dataframe tbody tr th {\n",
              "        vertical-align: top;\n",
              "    }\n",
              "\n",
              "    .dataframe thead th {\n",
              "        text-align: right;\n",
              "    }\n",
              "</style>\n",
              "<table border=\"1\" class=\"dataframe\">\n",
              "  <thead>\n",
              "    <tr style=\"text-align: right;\">\n",
              "      <th>Predicted</th>\n",
              "      <th>0</th>\n",
              "      <th>1</th>\n",
              "      <th>2</th>\n",
              "      <th>3</th>\n",
              "      <th>All</th>\n",
              "    </tr>\n",
              "    <tr>\n",
              "      <th>True</th>\n",
              "      <th></th>\n",
              "      <th></th>\n",
              "      <th></th>\n",
              "      <th></th>\n",
              "      <th></th>\n",
              "    </tr>\n",
              "  </thead>\n",
              "  <tbody>\n",
              "    <tr>\n",
              "      <th>0</th>\n",
              "      <td>5</td>\n",
              "      <td>0</td>\n",
              "      <td>1</td>\n",
              "      <td>1</td>\n",
              "      <td>7</td>\n",
              "    </tr>\n",
              "    <tr>\n",
              "      <th>1</th>\n",
              "      <td>3</td>\n",
              "      <td>3</td>\n",
              "      <td>1</td>\n",
              "      <td>1</td>\n",
              "      <td>8</td>\n",
              "    </tr>\n",
              "    <tr>\n",
              "      <th>2</th>\n",
              "      <td>3</td>\n",
              "      <td>0</td>\n",
              "      <td>7</td>\n",
              "      <td>1</td>\n",
              "      <td>11</td>\n",
              "    </tr>\n",
              "    <tr>\n",
              "      <th>3</th>\n",
              "      <td>3</td>\n",
              "      <td>2</td>\n",
              "      <td>1</td>\n",
              "      <td>3</td>\n",
              "      <td>9</td>\n",
              "    </tr>\n",
              "    <tr>\n",
              "      <th>All</th>\n",
              "      <td>14</td>\n",
              "      <td>5</td>\n",
              "      <td>10</td>\n",
              "      <td>6</td>\n",
              "      <td>35</td>\n",
              "    </tr>\n",
              "  </tbody>\n",
              "</table>\n",
              "</div>"
            ],
            "text/plain": [
              "Predicted   0  1   2  3  All\n",
              "True                        \n",
              "0           5  0   1  1    7\n",
              "1           3  3   1  1    8\n",
              "2           3  0   7  1   11\n",
              "3           3  2   1  3    9\n",
              "All        14  5  10  6   35"
            ]
          },
          "metadata": {
            "tags": []
          },
          "execution_count": 0
        }
      ]
    },
    {
      "cell_type": "markdown",
      "metadata": {
        "id": "lE-lXpK2Q5zI"
      },
      "source": [
        "# Performing EValuation on VGG16"
      ]
    },
    {
      "cell_type": "code",
      "metadata": {
        "colab": {
          "background_save": true
        },
        "id": "h1ULhlr4sc5l",
        "outputId": "0e9109be-c627-4d92-92b1-2446d899982f"
      },
      "source": [
        "lander2 = LunarLander()\n",
        "lander2.mount_drive()\n",
        "lander2.make_dir()\n",
        "lander2.fetch_filename()\n",
        "lander2.get_img()\n"
      ],
      "execution_count": null,
      "outputs": [
        {
          "output_type": "stream",
          "text": [
            "Drive already mounted at /content/drive; to attempt to forcibly remount, call drive.mount(\"/content/drive\", force_remount=True).\n"
          ],
          "name": "stdout"
        }
      ]
    },
    {
      "cell_type": "code",
      "metadata": {
        "colab": {
          "background_save": true
        },
        "id": "iYH5b7KisdV6"
      },
      "source": [
        "# desired dimensions of our images.\n",
        "ROWS = 224\n",
        "COLS = 224\n",
        "CHANNELS = 3\n",
        "sample_rate=0.01\n",
        "\n",
        "input_shape=(ROWS, COLS,CHANNELS)\n",
        "\n",
        "lander2.img_filenames = random.sample(lander2.img_filenames, int(len(lander2.img_filenames)*sample_rate))\n",
        "\n",
        "# Create a data array for image data\n",
        "count = len(lander2.img_filenames)\n",
        "lander2.X_data = np.ndarray((count, ROWS, COLS, CHANNELS), dtype=np.float)\n",
        "lander2.y_data= np.ndarray(0, dtype=np.int)"
      ],
      "execution_count": null,
      "outputs": []
    },
    {
      "cell_type": "code",
      "metadata": {
        "colab": {
          "background_save": true
        },
        "id": "Nvv50aJIsgQK",
        "outputId": "3a355e55-d358-4ed4-d5c1-82c403bdf6d0"
      },
      "source": [
        "\n",
        "\n",
        "# Iterate throuigh the filenames and for each one load the image, resize and normalise\n",
        "for i, image_file in enumerate(lander2.img_filenames): \n",
        "    image = cv2.imread(lander2.root_dir+image_file)\n",
        "    #print(image)\n",
        "    image = cv2.resize(image, (ROWS, COLS))\n",
        "    #print(image.shape)\n",
        "    #Reshaping the image shape from (224,224) to (1,224,224,1)\n",
        "\n",
        "    processed_image = image.reshape((1,ROWS, COLS, CHANNELS))\n",
        "    lander2.X_data[i] = processed_image\n",
        "    lander2.X_data[i] = lander2.X_data[i]/255\n",
        "    \n",
        "    \n",
        "\n",
        "\"\"\"processed_image = image.reshape((1, CHANNELS, ROWS, COLS))\n",
        "# Add image data to data array and normalise\n",
        "X_data[i] = processed_image\n",
        "X_data[i] = X_data[i]/255\"\"\""
      ],
      "execution_count": null,
      "outputs": [
        {
          "output_type": "execute_result",
          "data": {
            "application/vnd.google.colaboratory.intrinsic+json": {
              "type": "string"
            },
            "text/plain": [
              "'processed_image = image.reshape((1, CHANNELS, ROWS, COLS))\\n# Add image data to data array and normalise\\nX_data[i] = processed_image\\nX_data[i] = X_data[i]/255'"
            ]
          },
          "metadata": {
            "tags": []
          },
          "execution_count": 0
        }
      ]
    },
    {
      "cell_type": "code",
      "metadata": {
        "colab": {
          "background_save": true
        },
        "id": "YK7297Thsh4p"
      },
      "source": [
        "y= []\n",
        "for img in lander2.img_filenames:\n",
        "  print(img[-6:-5])\n",
        "  y.append(np.int(img[-6:-5]))\n",
        "lander2.y_data = np.array(y)"
      ],
      "execution_count": null,
      "outputs": []
    },
    {
      "cell_type": "code",
      "metadata": {
        "colab": {
          "background_save": true
        },
        "id": "UwF2cMeJsmTP"
      },
      "source": [
        "X_train, X_test, y_train  , y_test = train_test_split(lander2.X_data,lander2.y_data,test_size = 0.30,random_state = 1,train_size = 0.70)"
      ],
      "execution_count": null,
      "outputs": []
    },
    {
      "cell_type": "code",
      "metadata": {
        "colab": {
          "background_save": true
        },
        "id": "fINfzMJksqv6"
      },
      "source": [
        "nb_classes  = len(set(lander2.y_data))"
      ],
      "execution_count": null,
      "outputs": []
    },
    {
      "cell_type": "code",
      "metadata": {
        "colab": {
          "background_save": true
        },
        "id": "FH71w3A6soQn"
      },
      "source": [
        "from tensorflow.python.keras import utils\n",
        "\n",
        "lb = sklearn.preprocessing.LabelEncoder()\n",
        "\n",
        "y_train_encoded = lb.fit_transform(y_train)\n",
        "y_test_encoded = lb.fit_transform(y_test)\n",
        "\n",
        "y_train_cat = utils.np_utils.to_categorical(y_train_encoded,nb_classes)\n",
        "y_test_cat = utils.np_utils.to_categorical(y_test_encoded,nb_classes)\n",
        "\n"
      ],
      "execution_count": null,
      "outputs": []
    },
    {
      "cell_type": "code",
      "metadata": {
        "colab": {
          "background_save": true
        },
        "id": "JXA__W2As0Kq"
      },
      "source": [
        "classes_num_label = dict()\n",
        "\n",
        "for idx, lbl in enumerate(lb.classes_):\n",
        "    classes_num_label[idx] = lbl"
      ],
      "execution_count": null,
      "outputs": []
    },
    {
      "cell_type": "code",
      "metadata": {
        "colab": {
          "background_save": true
        },
        "id": "ykBadKzuaGOz"
      },
      "source": [
        "weights ='/content/drive/MyDrive/vgg16_weights_tf_dim_ordering_tf_kernels_notop_extracted.h5'\n",
        "\n",
        "model1 = Sequential()\n",
        "model1.add(VGG16(include_top = False, weights = weights, input_shape = (224,224,3)))\n",
        "model1.add(Flatten())\n",
        "model1.add(Dense(512, activation = 'relu'))\n",
        "model1.add(Dense(5, activation = 'softmax'))\n",
        "model1.compile(loss='sparse_categorical_crossentropy',\n",
        "          optimizer='sgd',\n",
        "          metrics=['accuracy'])"
      ],
      "execution_count": null,
      "outputs": []
    },
    {
      "cell_type": "code",
      "metadata": {
        "colab": {
          "background_save": true
        },
        "id": "UtocUH67in4o",
        "outputId": "ffb4b938-1c4e-4c19-fe39-4615072446f9"
      },
      "source": [
        "batch_size = 128\n",
        "epochs = 50\n",
        "\n",
        "# Set up the callback to save the best model based on validaion data\n",
        "\n",
        "\n",
        "start = time.time()\n",
        "history = model1.fit(X_train, y_train_encoded,\n",
        "          batch_size=batch_size,\n",
        "          epochs=epochs,\n",
        "          verbose = 1,\n",
        "          validation_split = 0.2,\n",
        "          shuffle=True)\n",
        "end = time.time()\n",
        "timetaken=end - start\n"
      ],
      "execution_count": null,
      "outputs": [
        {
          "output_type": "stream",
          "text": [
            "Epoch 1/50\n",
            "1/1 [==============================] - 66s 66s/step - loss: 2.0483 - accuracy: 0.0000e+00 - val_loss: 5.9317 - val_accuracy: 0.4444\n",
            "Epoch 2/50\n",
            "1/1 [==============================] - 69s 69s/step - loss: 4.9620 - accuracy: 0.5758 - val_loss: 1.1380 - val_accuracy: 0.5556\n",
            "Epoch 3/50\n",
            "1/1 [==============================] - 64s 64s/step - loss: 1.3808 - accuracy: 0.3939 - val_loss: 1.2624 - val_accuracy: 0.7778\n",
            "Epoch 4/50\n",
            "1/1 [==============================] - 64s 64s/step - loss: 1.2818 - accuracy: 0.5455 - val_loss: 3.6581 - val_accuracy: 0.5556\n",
            "Epoch 5/50\n",
            "1/1 [==============================] - 65s 65s/step - loss: 5.2400 - accuracy: 0.3939 - val_loss: 1.2843 - val_accuracy: 0.5556\n",
            "Epoch 6/50\n",
            "1/1 [==============================] - 65s 65s/step - loss: 2.0189 - accuracy: 0.3939 - val_loss: 15.5116 - val_accuracy: 0.4444\n",
            "Epoch 7/50\n",
            "1/1 [==============================] - 64s 64s/step - loss: 11.8039 - accuracy: 0.5758 - val_loss: 0.9177 - val_accuracy: 0.5556\n",
            "Epoch 8/50\n",
            "1/1 [==============================] - 64s 64s/step - loss: 1.0647 - accuracy: 0.3939 - val_loss: 0.8100 - val_accuracy: 0.4444\n",
            "Epoch 9/50\n",
            "1/1 [==============================] - 64s 64s/step - loss: 0.8432 - accuracy: 0.5758 - val_loss: 0.9227 - val_accuracy: 0.5556\n",
            "Epoch 10/50\n",
            "1/1 [==============================] - 65s 65s/step - loss: 1.3819 - accuracy: 0.3939 - val_loss: 1.8490 - val_accuracy: 0.4444\n",
            "Epoch 11/50\n",
            "1/1 [==============================] - 71s 71s/step - loss: 1.4454 - accuracy: 0.5758 - val_loss: 1.5002 - val_accuracy: 0.5556\n",
            "Epoch 12/50\n",
            "1/1 [==============================] - 65s 65s/step - loss: 1.5789 - accuracy: 0.3939 - val_loss: 0.7911 - val_accuracy: 0.4444\n",
            "Epoch 13/50\n",
            "1/1 [==============================] - 65s 65s/step - loss: 0.8166 - accuracy: 0.5758 - val_loss: 0.7890 - val_accuracy: 0.4444\n",
            "Epoch 14/50\n",
            "1/1 [==============================] - 65s 65s/step - loss: 0.8115 - accuracy: 0.5758 - val_loss: 0.7367 - val_accuracy: 0.5556\n",
            "Epoch 15/50\n",
            "1/1 [==============================] - 64s 64s/step - loss: 0.8361 - accuracy: 0.3939 - val_loss: 0.9370 - val_accuracy: 0.4444\n",
            "Epoch 16/50\n",
            "1/1 [==============================] - 64s 64s/step - loss: 0.8778 - accuracy: 0.5758 - val_loss: 0.7784 - val_accuracy: 0.5556\n",
            "Epoch 17/50\n",
            "1/1 [==============================] - 64s 64s/step - loss: 0.8522 - accuracy: 0.3939 - val_loss: 0.7969 - val_accuracy: 0.4444\n",
            "Epoch 18/50\n",
            "1/1 [==============================] - 64s 64s/step - loss: 0.8086 - accuracy: 0.5758 - val_loss: 0.7414 - val_accuracy: 0.4444\n",
            "Epoch 19/50\n",
            "1/1 [==============================] - 64s 64s/step - loss: 0.8059 - accuracy: 0.5758 - val_loss: 0.7808 - val_accuracy: 0.4444\n",
            "Epoch 20/50\n",
            "1/1 [==============================] - 65s 65s/step - loss: 0.8011 - accuracy: 0.5758 - val_loss: 0.7553 - val_accuracy: 0.4444\n",
            "Epoch 21/50\n",
            "1/1 [==============================] - 65s 65s/step - loss: 0.7991 - accuracy: 0.5758 - val_loss: 0.7682 - val_accuracy: 0.4444\n",
            "Epoch 22/50\n",
            "1/1 [==============================] - 64s 64s/step - loss: 0.7979 - accuracy: 0.5758 - val_loss: 0.7589 - val_accuracy: 0.4444\n",
            "Epoch 23/50\n",
            "1/1 [==============================] - 64s 64s/step - loss: 0.7971 - accuracy: 0.5758 - val_loss: 0.7652 - val_accuracy: 0.4444\n",
            "Epoch 24/50\n",
            "1/1 [==============================] - 64s 64s/step - loss: 0.7965 - accuracy: 0.5758 - val_loss: 0.7617 - val_accuracy: 0.4444\n",
            "Epoch 25/50\n",
            "1/1 [==============================] - 64s 64s/step - loss: 0.7959 - accuracy: 0.5758 - val_loss: 0.7648 - val_accuracy: 0.4444\n",
            "Epoch 26/50\n",
            "1/1 [==============================] - 64s 64s/step - loss: 0.7954 - accuracy: 0.5758 - val_loss: 0.7618 - val_accuracy: 0.4444\n",
            "Epoch 27/50\n",
            "1/1 [==============================] - 64s 64s/step - loss: 0.7950 - accuracy: 0.5758 - val_loss: 0.7632 - val_accuracy: 0.4444\n",
            "Epoch 28/50\n",
            "1/1 [==============================] - 65s 65s/step - loss: 0.7946 - accuracy: 0.5758 - val_loss: 0.7652 - val_accuracy: 0.4444\n",
            "Epoch 29/50\n",
            "1/1 [==============================] - 64s 64s/step - loss: 0.7944 - accuracy: 0.5758 - val_loss: 0.7617 - val_accuracy: 0.4444\n",
            "Epoch 30/50\n",
            "1/1 [==============================] - 64s 64s/step - loss: 0.7939 - accuracy: 0.5758 - val_loss: 0.7629 - val_accuracy: 0.4444\n",
            "Epoch 31/50\n",
            "1/1 [==============================] - 64s 64s/step - loss: 0.7936 - accuracy: 0.5758 - val_loss: 0.7625 - val_accuracy: 0.4444\n",
            "Epoch 32/50\n",
            "1/1 [==============================] - 64s 64s/step - loss: 0.7933 - accuracy: 0.5758 - val_loss: 0.7630 - val_accuracy: 0.4444\n",
            "Epoch 33/50\n",
            "1/1 [==============================] - 64s 64s/step - loss: 0.7931 - accuracy: 0.5758 - val_loss: 0.7629 - val_accuracy: 0.4444\n",
            "Epoch 34/50\n",
            "1/1 [==============================] - 64s 64s/step - loss: 0.7928 - accuracy: 0.5758 - val_loss: 0.7639 - val_accuracy: 0.4444\n",
            "Epoch 35/50\n",
            "1/1 [==============================] - 64s 64s/step - loss: 0.7926 - accuracy: 0.5758 - val_loss: 0.7611 - val_accuracy: 0.4444\n",
            "Epoch 36/50\n",
            "1/1 [==============================] - 64s 64s/step - loss: 0.7925 - accuracy: 0.5758 - val_loss: 0.7664 - val_accuracy: 0.4444\n",
            "Epoch 37/50\n",
            "1/1 [==============================] - 64s 64s/step - loss: 0.7922 - accuracy: 0.5758 - val_loss: 0.7604 - val_accuracy: 0.4444\n",
            "Epoch 38/50\n",
            "1/1 [==============================] - 64s 64s/step - loss: 0.7920 - accuracy: 0.5758 - val_loss: 0.7666 - val_accuracy: 0.4444\n",
            "Epoch 39/50\n",
            "1/1 [==============================] - 65s 65s/step - loss: 0.7922 - accuracy: 0.5758 - val_loss: 0.7601 - val_accuracy: 0.4444\n",
            "Epoch 40/50\n",
            "1/1 [==============================] - 64s 64s/step - loss: 0.7917 - accuracy: 0.5758 - val_loss: 0.7684 - val_accuracy: 0.4444\n",
            "Epoch 41/50\n",
            "1/1 [==============================] - 64s 64s/step - loss: 0.7917 - accuracy: 0.5758 - val_loss: 0.7572 - val_accuracy: 0.4444\n",
            "Epoch 42/50\n",
            "1/1 [==============================] - 64s 64s/step - loss: 0.7915 - accuracy: 0.5758 - val_loss: 0.7719 - val_accuracy: 0.4444\n",
            "Epoch 43/50\n",
            "1/1 [==============================] - 64s 64s/step - loss: 0.7915 - accuracy: 0.5758 - val_loss: 0.7535 - val_accuracy: 0.4444\n",
            "Epoch 44/50\n",
            "1/1 [==============================] - 64s 64s/step - loss: 0.7917 - accuracy: 0.5758 - val_loss: 0.7772 - val_accuracy: 0.4444\n",
            "Epoch 45/50\n",
            "1/1 [==============================] - 64s 64s/step - loss: 0.7919 - accuracy: 0.5758 - val_loss: 0.7497 - val_accuracy: 0.4444\n",
            "Epoch 46/50\n",
            "1/1 [==============================] - 64s 64s/step - loss: 0.7922 - accuracy: 0.5758 - val_loss: 0.7868 - val_accuracy: 0.4444\n",
            "Epoch 47/50\n",
            "1/1 [==============================] - 64s 64s/step - loss: 0.7933 - accuracy: 0.5758 - val_loss: 0.7414 - val_accuracy: 0.4444\n",
            "Epoch 48/50\n",
            "1/1 [==============================] - 64s 64s/step - loss: 0.7949 - accuracy: 0.5758 - val_loss: 0.8065 - val_accuracy: 0.4444\n",
            "Epoch 49/50\n",
            "1/1 [==============================] - 64s 64s/step - loss: 0.7978 - accuracy: 0.5758 - val_loss: 0.7332 - val_accuracy: 0.4444\n",
            "Epoch 50/50\n",
            "1/1 [==============================] - 64s 64s/step - loss: 0.8013 - accuracy: 0.5758 - val_loss: 0.8263 - val_accuracy: 0.4444\n"
          ],
          "name": "stdout"
        }
      ]
    },
    {
      "cell_type": "code",
      "metadata": {
        "colab": {
          "background_save": true
        },
        "id": "SgPMB9zXixug"
      },
      "source": [
        "model1.save('vgg_lunar.hdf5')"
      ],
      "execution_count": null,
      "outputs": []
    },
    {
      "cell_type": "markdown",
      "metadata": {
        "id": "8S0yfdFFRzJK"
      },
      "source": [
        "We are getting 47% Accuracy by VGG16 model without fixing class imbalance on training set. But their is class imbalance problem in the dataset, so we need to fix that problem. We can see from the confusion matrix, our model is not able to predict class 1 and class 3. Instead of them, it is simply predicting the majority class which is class 0 and class 2.\n",
        "\n",
        "Also, we are getting accuracy of 63 on test set without fixing class imbalance for lenet-5 model.\n",
        "\n",
        "```\n",
        "# This is formatted as code\n",
        "```\n",
        "\n"
      ]
    },
    {
      "cell_type": "code",
      "metadata": {
        "colab": {
          "background_save": true
        },
        "id": "DzP7TEhBi07A",
        "outputId": "c3cc4e9e-b8c8-4f2e-88b6-a0eaf3ce10d7"
      },
      "source": [
        "import tensorflow as tf\n",
        "from tensorflow import keras\n",
        "#...\n",
        "myModel_vgg = tf.keras.models.load_model(\"./vgg_lunar.hdf5\")\n",
        "y_pred = myModel_vgg.predict_classes(X_test)\n",
        "# Print performance details\n",
        "accuracy = metrics.accuracy_score(y_test_encoded, y_pred) # , normalize=True, sample_weight=None\n",
        "lander2.model_test_accuracy_comparision[\"VGG\"] = accuracy\n",
        "print(\"Accuracy: \" +  str(accuracy))\n"
      ],
      "execution_count": null,
      "outputs": [
        {
          "output_type": "stream",
          "text": [
            "/usr/local/lib/python3.7/dist-packages/tensorflow/python/keras/engine/sequential.py:450: UserWarning: `model.predict_classes()` is deprecated and will be removed after 2021-01-01. Please use instead:* `np.argmax(model.predict(x), axis=-1)`,   if your model does multi-class classification   (e.g. if it uses a `softmax` last-layer activation).* `(model.predict(x) > 0.5).astype(\"int32\")`,   if your model does binary classification   (e.g. if it uses a `sigmoid` last-layer activation).\n",
            "  warnings.warn('`model.predict_classes()` is deprecated and '\n"
          ],
          "name": "stderr"
        },
        {
          "output_type": "stream",
          "text": [
            "Accuracy: 0.47368421052631576\n"
          ],
          "name": "stdout"
        }
      ]
    },
    {
      "cell_type": "code",
      "metadata": {
        "colab": {
          "background_save": true
        },
        "id": "JWLlXh87jQFf",
        "outputId": "03938582-855a-4a55-b5be-2dce63cbb525"
      },
      "source": [
        "print(metrics.classification_report(y_test_encoded, y_pred))\n",
        "report = metrics.classification_report(y_test_encoded, y_pred)\n",
        "lander2.model_test_recall_comparision[\"VGG\"] = report.split('\\n')[-2].split('      ')[2]\n",
        "lander2.model_test_f1_score_comparision[\"VGG\"] = report.split('\\n')[-2].split('      ')[3]\n",
        "print(\"Confusion Matrix\")\n",
        "pd.crosstab(np.array(y_test_encoded), y_pred, rownames=['True'], colnames=['Predicted'], margins=True)"
      ],
      "execution_count": null,
      "outputs": [
        {
          "output_type": "stream",
          "text": [
            "              precision    recall  f1-score   support\n",
            "\n",
            "           0       0.47      1.00      0.64         9\n",
            "           1       0.00      0.00      0.00        10\n",
            "\n",
            "    accuracy                           0.47        19\n",
            "   macro avg       0.24      0.50      0.32        19\n",
            "weighted avg       0.22      0.47      0.30        19\n",
            "\n",
            "Confusion Matrix\n"
          ],
          "name": "stdout"
        },
        {
          "output_type": "stream",
          "text": [
            "/usr/local/lib/python3.7/dist-packages/sklearn/metrics/_classification.py:1272: UndefinedMetricWarning: Precision and F-score are ill-defined and being set to 0.0 in labels with no predicted samples. Use `zero_division` parameter to control this behavior.\n",
            "  _warn_prf(average, modifier, msg_start, len(result))\n"
          ],
          "name": "stderr"
        },
        {
          "output_type": "execute_result",
          "data": {
            "text/html": [
              "<div>\n",
              "<style scoped>\n",
              "    .dataframe tbody tr th:only-of-type {\n",
              "        vertical-align: middle;\n",
              "    }\n",
              "\n",
              "    .dataframe tbody tr th {\n",
              "        vertical-align: top;\n",
              "    }\n",
              "\n",
              "    .dataframe thead th {\n",
              "        text-align: right;\n",
              "    }\n",
              "</style>\n",
              "<table border=\"1\" class=\"dataframe\">\n",
              "  <thead>\n",
              "    <tr style=\"text-align: right;\">\n",
              "      <th>Predicted</th>\n",
              "      <th>0</th>\n",
              "      <th>All</th>\n",
              "    </tr>\n",
              "    <tr>\n",
              "      <th>True</th>\n",
              "      <th></th>\n",
              "      <th></th>\n",
              "    </tr>\n",
              "  </thead>\n",
              "  <tbody>\n",
              "    <tr>\n",
              "      <th>0</th>\n",
              "      <td>9</td>\n",
              "      <td>9</td>\n",
              "    </tr>\n",
              "    <tr>\n",
              "      <th>1</th>\n",
              "      <td>10</td>\n",
              "      <td>10</td>\n",
              "    </tr>\n",
              "    <tr>\n",
              "      <th>All</th>\n",
              "      <td>19</td>\n",
              "      <td>19</td>\n",
              "    </tr>\n",
              "  </tbody>\n",
              "</table>\n",
              "</div>"
            ],
            "text/plain": [
              "Predicted   0  All\n",
              "True              \n",
              "0           9    9\n",
              "1          10   10\n",
              "All        19   19"
            ]
          },
          "metadata": {
            "tags": []
          },
          "execution_count": 0
        }
      ]
    },
    {
      "cell_type": "code",
      "metadata": {
        "colab": {
          "background_save": true
        },
        "id": "rFxNrBe9jTV_",
        "outputId": "92c2fc0d-d795-4467-c42a-4a5cc7f4ef80"
      },
      "source": [
        "plt.plot(history.history['accuracy'])\n",
        "plt.plot(history.history['val_accuracy'])\n",
        "plt.title('VGG-16 model accuracy')\n",
        "plt.ylabel('accuracy')\n",
        "plt.xlabel('epoch')\n",
        "plt.legend(['train', 'Validation'], loc='upper left')\n",
        "plt.show()"
      ],
      "execution_count": null,
      "outputs": [
        {
          "output_type": "display_data",
          "data": {
            "image/png": "[encoded data removed]",
            "text/plain": [
              "<Figure size 432x288 with 1 Axes>"
            ]
          },
          "metadata": {
            "tags": []
          }
        }
      ]
    },
    {
      "cell_type": "code",
      "metadata": {
        "colab": {
          "background_save": true
        },
        "id": "AdLJlkkOjW_2",
        "outputId": "609b7eab-e16d-493f-ca38-31f121d98338"
      },
      "source": [
        "plt.plot(history.history['loss'])\n",
        "plt.plot(history.history['val_loss'])\n",
        "plt.title('VGG16 model loss')\n",
        "plt.ylabel('loss')\n",
        "plt.xlabel('epoch')\n",
        "plt.legend(['train', 'Validation'], loc='upper left')\n",
        "plt.show()"
      ],
      "execution_count": null,
      "outputs": [
        {
          "output_type": "display_data",
          "data": {
            "image/png": "[encoded data removed]",
            "text/plain": [
              "<Figure size 432x288 with 1 Axes>"
            ]
          },
          "metadata": {
            "tags": []
          }
        }
      ]
    },
    {
      "cell_type": "code",
      "metadata": {
        "colab": {
          "background_save": true
        },
        "id": "_e6z-Oa_jZW_",
        "outputId": "bacf3afc-7281-4f55-cb5e-437d88f1581f"
      },
      "source": [
        "y_pred = myModel_vgg.predict_classes(X_test)\n",
        "# Print performance details\n",
        "accuracy = metrics.accuracy_score(y_test_encoded, y_pred) # , normalize=True, sample_weight=None\n",
        "lander2.model_test_accuracy_comparision[\"VGG16\"] = accuracy\n",
        "print(\"Accuracy: \" +  str(accuracy))\n"
      ],
      "execution_count": null,
      "outputs": [
        {
          "output_type": "stream",
          "text": [
            "/usr/local/lib/python3.7/dist-packages/tensorflow/python/keras/engine/sequential.py:450: UserWarning: `model.predict_classes()` is deprecated and will be removed after 2021-01-01. Please use instead:* `np.argmax(model.predict(x), axis=-1)`,   if your model does multi-class classification   (e.g. if it uses a `softmax` last-layer activation).* `(model.predict(x) > 0.5).astype(\"int32\")`,   if your model does binary classification   (e.g. if it uses a `sigmoid` last-layer activation).\n",
            "  warnings.warn('`model.predict_classes()` is deprecated and '\n"
          ],
          "name": "stderr"
        },
        {
          "output_type": "stream",
          "text": [
            "Accuracy: 0.47368421052631576\n"
          ],
          "name": "stdout"
        }
      ]
    },
    {
      "cell_type": "code",
      "metadata": {
        "colab": {
          "background_save": true
        },
        "id": "TLUZvA5Mjb1c",
        "outputId": "b3ca04cf-38b7-48ff-a9c5-fdd519fb55ca"
      },
      "source": [
        "print(metrics.classification_report(y_test_encoded, y_pred))\n",
        "report = metrics.classification_report(y_test_encoded, y_pred)\n",
        "lander2.model_test_recall_comparision[\"VGG16\"] = report.split('\\n')[-2].split('      ')[2]\n",
        "lander2.model_test_f1_score_comparision[\"VGG16\"] = report.split('\\n')[-2].split('      ')[3]\n",
        "print(\"Confusion Matrix\")\n",
        "pd.crosstab(np.array(y_test_encoded), y_pred, rownames=['True'], colnames=['Predicted'], margins=True)\n"
      ],
      "execution_count": null,
      "outputs": [
        {
          "output_type": "stream",
          "text": [
            "              precision    recall  f1-score   support\n",
            "\n",
            "           0       0.47      1.00      0.64         9\n",
            "           1       0.00      0.00      0.00        10\n",
            "\n",
            "    accuracy                           0.47        19\n",
            "   macro avg       0.24      0.50      0.32        19\n",
            "weighted avg       0.22      0.47      0.30        19\n",
            "\n",
            "Confusion Matrix\n"
          ],
          "name": "stdout"
        },
        {
          "output_type": "stream",
          "text": [
            "/usr/local/lib/python3.7/dist-packages/sklearn/metrics/_classification.py:1272: UndefinedMetricWarning: Precision and F-score are ill-defined and being set to 0.0 in labels with no predicted samples. Use `zero_division` parameter to control this behavior.\n",
            "  _warn_prf(average, modifier, msg_start, len(result))\n"
          ],
          "name": "stderr"
        },
        {
          "output_type": "execute_result",
          "data": {
            "text/html": [
              "<div>\n",
              "<style scoped>\n",
              "    .dataframe tbody tr th:only-of-type {\n",
              "        vertical-align: middle;\n",
              "    }\n",
              "\n",
              "    .dataframe tbody tr th {\n",
              "        vertical-align: top;\n",
              "    }\n",
              "\n",
              "    .dataframe thead th {\n",
              "        text-align: right;\n",
              "    }\n",
              "</style>\n",
              "<table border=\"1\" class=\"dataframe\">\n",
              "  <thead>\n",
              "    <tr style=\"text-align: right;\">\n",
              "      <th>Predicted</th>\n",
              "      <th>0</th>\n",
              "      <th>All</th>\n",
              "    </tr>\n",
              "    <tr>\n",
              "      <th>True</th>\n",
              "      <th></th>\n",
              "      <th></th>\n",
              "    </tr>\n",
              "  </thead>\n",
              "  <tbody>\n",
              "    <tr>\n",
              "      <th>0</th>\n",
              "      <td>9</td>\n",
              "      <td>9</td>\n",
              "    </tr>\n",
              "    <tr>\n",
              "      <th>1</th>\n",
              "      <td>10</td>\n",
              "      <td>10</td>\n",
              "    </tr>\n",
              "    <tr>\n",
              "      <th>All</th>\n",
              "      <td>19</td>\n",
              "      <td>19</td>\n",
              "    </tr>\n",
              "  </tbody>\n",
              "</table>\n",
              "</div>"
            ],
            "text/plain": [
              "Predicted   0  All\n",
              "True              \n",
              "0           9    9\n",
              "1          10   10\n",
              "All        19   19"
            ]
          },
          "metadata": {
            "tags": []
          },
          "execution_count": 0
        }
      ]
    },
    {
      "cell_type": "code",
      "metadata": {
        "colab": {
          "background_save": true
        },
        "id": "oH7ilFAyjltw",
        "outputId": "145833a6-32c8-4c05-ad0f-046dcb3d7ffc"
      },
      "source": [
        "from imblearn.under_sampling import RandomUnderSampler\n",
        "\n",
        "rus = RandomUnderSampler(return_indices=True)\n",
        "X_train_rus, y_train_rus, id_rus =rus.fit_sample(X_train.reshape(len(X_train), X_train.shape[1]*X_train.shape[2]*X_train.shape[3]), y_train)\n",
        "\n",
        "print(X_train_rus.shape)\n",
        "print(y_train_rus.shape)\n",
        "\n",
        "X_train_rus, y_train_rus = shuffle(X_train_rus, y_train_rus)\n",
        "\n",
        "X_train_rus = X_train_rus.reshape(len(X_train_rus),ROWS, COLS,CHANNELS)\n",
        "\n",
        "X_rus, Y_rus = X_train_rus, y_train_rus\n",
        "\n",
        "X_train_rus, X_test_rus, y_train_rus ,y_test_rus = train_test_split(X_rus,Y_rus,train_size=0.70,test_size = 0.30,random_state = 1)"
      ],
      "execution_count": null,
      "outputs": [
        {
          "output_type": "stream",
          "text": [
            "(3, 150528)\n",
            "(3,)\n"
          ],
          "name": "stdout"
        },
        {
          "output_type": "stream",
          "text": [
            "/usr/local/lib/python3.7/dist-packages/sklearn/utils/deprecation.py:87: FutureWarning: Function safe_indexing is deprecated; safe_indexing is deprecated in version 0.22 and will be removed in version 0.24.\n",
            "  warnings.warn(msg, category=FutureWarning)\n"
          ],
          "name": "stderr"
        }
      ]
    },
    {
      "cell_type": "code",
      "metadata": {
        "colab": {
          "background_save": true
        },
        "id": "qwhnV5kyjslN"
      },
      "source": [
        " from tensorflow.python.keras import utils\n",
        "\n",
        "lb = sklearn.preprocessing.LabelEncoder()\n",
        "\n",
        "y_train_rus_encoded = lb.fit_transform(y_train_rus)\n",
        "y_test_rus_encoded = lb.fit_transform(y_train_rus)\n",
        "\n",
        "y_train_rus_cat = utils.np_utils.to_categorical(y_train_rus_encoded,nb_classes)\n",
        "y_test_rus_cat = utils.np_utils.to_categorical(y_test_rus_encoded,nb_classes)\n",
        "\n"
      ],
      "execution_count": null,
      "outputs": []
    },
    {
      "cell_type": "code",
      "metadata": {
        "colab": {
          "background_save": true
        },
        "id": "wl7FVEp2jxIj",
        "outputId": "87767a4f-ae75-4f78-89bf-d1389d0d2f0a"
      },
      "source": [
        "import time\n",
        "batch_size = 64\n",
        "epochs = 50\n",
        "\n",
        "# Set up the callback to save the best model based on validaion data\n",
        "\n",
        "\n",
        "start = time.time()\n",
        "history = model1.fit(X_train_rus, y_train_rus_encoded,\n",
        "          batch_size=batch_size,\n",
        "          epochs=epochs,\n",
        "          verbose = 1,\n",
        "          validation_split = 0.2,\n",
        "          shuffle=True)\n",
        "end = time.time()\n",
        "timetaken=end - start\n",
        "model1.save(\"VGG-underrsampling-run1.hdf5\")\n"
      ],
      "execution_count": null,
      "outputs": [
        {
          "output_type": "stream",
          "text": [
            "Epoch 1/50\n",
            "1/1 [==============================] - 3s 3s/step - loss: 0.4254 - accuracy: 1.0000 - val_loss: 6.8822 - val_accuracy: 0.0000e+00\n",
            "Epoch 2/50\n",
            "1/1 [==============================] - 3s 3s/step - loss: 0.0237 - accuracy: 1.0000 - val_loss: 7.3565 - val_accuracy: 0.0000e+00\n",
            "Epoch 3/50\n",
            "1/1 [==============================] - 2s 2s/step - loss: 0.0151 - accuracy: 1.0000 - val_loss: 7.7118 - val_accuracy: 0.0000e+00\n",
            "Epoch 4/50\n",
            "1/1 [==============================] - 3s 3s/step - loss: 0.0108 - accuracy: 1.0000 - val_loss: 7.9921 - val_accuracy: 0.0000e+00\n",
            "Epoch 5/50\n",
            "1/1 [==============================] - 3s 3s/step - loss: 0.0083 - accuracy: 1.0000 - val_loss: 8.2296 - val_accuracy: 0.0000e+00\n",
            "Epoch 6/50\n",
            "1/1 [==============================] - 3s 3s/step - loss: 0.0066 - accuracy: 1.0000 - val_loss: 8.4350 - val_accuracy: 0.0000e+00\n",
            "Epoch 7/50\n",
            "1/1 [==============================] - 2s 2s/step - loss: 0.0055 - accuracy: 1.0000 - val_loss: 8.6171 - val_accuracy: 0.0000e+00\n",
            "Epoch 8/50\n",
            "1/1 [==============================] - 2s 2s/step - loss: 0.0046 - accuracy: 1.0000 - val_loss: 8.7795 - val_accuracy: 0.0000e+00\n",
            "Epoch 9/50\n",
            "1/1 [==============================] - 2s 2s/step - loss: 0.0039 - accuracy: 1.0000 - val_loss: 8.9283 - val_accuracy: 0.0000e+00\n",
            "Epoch 10/50\n",
            "1/1 [==============================] - 3s 3s/step - loss: 0.0034 - accuracy: 1.0000 - val_loss: 9.0649 - val_accuracy: 0.0000e+00\n",
            "Epoch 11/50\n",
            "1/1 [==============================] - 3s 3s/step - loss: 0.0030 - accuracy: 1.0000 - val_loss: 9.1894 - val_accuracy: 0.0000e+00\n",
            "Epoch 12/50\n",
            "1/1 [==============================] - 2s 2s/step - loss: 0.0027 - accuracy: 1.0000 - val_loss: 9.3043 - val_accuracy: 0.0000e+00\n",
            "Epoch 13/50\n",
            "1/1 [==============================] - 3s 3s/step - loss: 0.0024 - accuracy: 1.0000 - val_loss: 9.4109 - val_accuracy: 0.0000e+00\n",
            "Epoch 14/50\n",
            "1/1 [==============================] - 2s 2s/step - loss: 0.0021 - accuracy: 1.0000 - val_loss: 9.5126 - val_accuracy: 0.0000e+00\n",
            "Epoch 15/50\n",
            "1/1 [==============================] - 2s 2s/step - loss: 0.0019 - accuracy: 1.0000 - val_loss: 9.6080 - val_accuracy: 0.0000e+00\n",
            "Epoch 16/50\n",
            "1/1 [==============================] - 2s 2s/step - loss: 0.0018 - accuracy: 1.0000 - val_loss: 9.6973 - val_accuracy: 0.0000e+00\n",
            "Epoch 17/50\n",
            "1/1 [==============================] - 2s 2s/step - loss: 0.0016 - accuracy: 1.0000 - val_loss: 9.7816 - val_accuracy: 0.0000e+00\n",
            "Epoch 18/50\n",
            "1/1 [==============================] - 2s 2s/step - loss: 0.0015 - accuracy: 1.0000 - val_loss: 9.8632 - val_accuracy: 0.0000e+00\n",
            "Epoch 19/50\n",
            "1/1 [==============================] - 2s 2s/step - loss: 0.0014 - accuracy: 1.0000 - val_loss: 9.9402 - val_accuracy: 0.0000e+00\n",
            "Epoch 20/50\n",
            "1/1 [==============================] - 2s 2s/step - loss: 0.0013 - accuracy: 1.0000 - val_loss: 10.0122 - val_accuracy: 0.0000e+00\n",
            "Epoch 21/50\n",
            "1/1 [==============================] - 2s 2s/step - loss: 0.0012 - accuracy: 1.0000 - val_loss: 10.0826 - val_accuracy: 0.0000e+00\n",
            "Epoch 22/50\n",
            "1/1 [==============================] - 2s 2s/step - loss: 0.0011 - accuracy: 1.0000 - val_loss: 10.1493 - val_accuracy: 0.0000e+00\n",
            "Epoch 23/50\n",
            "1/1 [==============================] - 2s 2s/step - loss: 0.0011 - accuracy: 1.0000 - val_loss: 10.2131 - val_accuracy: 0.0000e+00\n",
            "Epoch 24/50\n",
            "1/1 [==============================] - 2s 2s/step - loss: 9.9990e-04 - accuracy: 1.0000 - val_loss: 10.2739 - val_accuracy: 0.0000e+00\n",
            "Epoch 25/50\n",
            "1/1 [==============================] - 2s 2s/step - loss: 9.4310e-04 - accuracy: 1.0000 - val_loss: 10.3355 - val_accuracy: 0.0000e+00\n",
            "Epoch 26/50\n",
            "1/1 [==============================] - 2s 2s/step - loss: 8.8974e-04 - accuracy: 1.0000 - val_loss: 10.3952 - val_accuracy: 0.0000e+00\n",
            "Epoch 27/50\n",
            "1/1 [==============================] - 2s 2s/step - loss: 8.4043e-04 - accuracy: 1.0000 - val_loss: 10.4526 - val_accuracy: 0.0000e+00\n",
            "Epoch 28/50\n",
            "1/1 [==============================] - 3s 3s/step - loss: 7.9552e-04 - accuracy: 1.0000 - val_loss: 10.5077 - val_accuracy: 0.0000e+00\n",
            "Epoch 29/50\n",
            "1/1 [==============================] - 3s 3s/step - loss: 7.5383e-04 - accuracy: 1.0000 - val_loss: 10.5602 - val_accuracy: 0.0000e+00\n",
            "Epoch 30/50\n",
            "1/1 [==============================] - 3s 3s/step - loss: 7.1583e-04 - accuracy: 1.0000 - val_loss: 10.6127 - val_accuracy: 0.0000e+00\n",
            "Epoch 31/50\n",
            "1/1 [==============================] - 3s 3s/step - loss: 6.7974e-04 - accuracy: 1.0000 - val_loss: 10.6624 - val_accuracy: 0.0000e+00\n",
            "Epoch 32/50\n",
            "1/1 [==============================] - 2s 2s/step - loss: 6.4674e-04 - accuracy: 1.0000 - val_loss: 10.7107 - val_accuracy: 0.0000e+00\n",
            "Epoch 33/50\n",
            "1/1 [==============================] - 2s 2s/step - loss: 6.1612e-04 - accuracy: 1.0000 - val_loss: 10.7584 - val_accuracy: 0.0000e+00\n",
            "Epoch 34/50\n",
            "1/1 [==============================] - 2s 2s/step - loss: 5.8729e-04 - accuracy: 1.0000 - val_loss: 10.8039 - val_accuracy: 0.0000e+00\n",
            "Epoch 35/50\n",
            "1/1 [==============================] - 2s 2s/step - loss: 5.6060e-04 - accuracy: 1.0000 - val_loss: 10.8479 - val_accuracy: 0.0000e+00\n",
            "Epoch 36/50\n",
            "1/1 [==============================] - 3s 3s/step - loss: 5.3594e-04 - accuracy: 1.0000 - val_loss: 10.8906 - val_accuracy: 0.0000e+00\n",
            "Epoch 37/50\n",
            "1/1 [==============================] - 3s 3s/step - loss: 5.1318e-04 - accuracy: 1.0000 - val_loss: 10.9316 - val_accuracy: 0.0000e+00\n",
            "Epoch 38/50\n",
            "1/1 [==============================] - 2s 2s/step - loss: 4.9186e-04 - accuracy: 1.0000 - val_loss: 10.9717 - val_accuracy: 0.0000e+00\n",
            "Epoch 39/50\n",
            "1/1 [==============================] - 3s 3s/step - loss: 4.7208e-04 - accuracy: 1.0000 - val_loss: 11.0104 - val_accuracy: 0.0000e+00\n",
            "Epoch 40/50\n",
            "1/1 [==============================] - 2s 2s/step - loss: 4.5349e-04 - accuracy: 1.0000 - val_loss: 11.0482 - val_accuracy: 0.0000e+00\n",
            "Epoch 41/50\n",
            "1/1 [==============================] - 3s 3s/step - loss: 4.3633e-04 - accuracy: 1.0000 - val_loss: 11.0847 - val_accuracy: 0.0000e+00\n",
            "Epoch 42/50\n",
            "1/1 [==============================] - 3s 3s/step - loss: 4.2012e-04 - accuracy: 1.0000 - val_loss: 11.1203 - val_accuracy: 0.0000e+00\n",
            "Epoch 43/50\n",
            "1/1 [==============================] - 3s 3s/step - loss: 4.0499e-04 - accuracy: 1.0000 - val_loss: 11.1552 - val_accuracy: 0.0000e+00\n",
            "Epoch 44/50\n",
            "1/1 [==============================] - 2s 2s/step - loss: 3.9057e-04 - accuracy: 1.0000 - val_loss: 11.1893 - val_accuracy: 0.0000e+00\n",
            "Epoch 45/50\n",
            "1/1 [==============================] - 3s 3s/step - loss: 3.7711e-04 - accuracy: 1.0000 - val_loss: 11.2227 - val_accuracy: 0.0000e+00\n",
            "Epoch 46/50\n",
            "1/1 [==============================] - 3s 3s/step - loss: 3.6436e-04 - accuracy: 1.0000 - val_loss: 11.2552 - val_accuracy: 0.0000e+00\n",
            "Epoch 47/50\n",
            "1/1 [==============================] - 2s 2s/step - loss: 3.5232e-04 - accuracy: 1.0000 - val_loss: 11.2869 - val_accuracy: 0.0000e+00\n",
            "Epoch 48/50\n",
            "1/1 [==============================] - 2s 2s/step - loss: 3.4100e-04 - accuracy: 1.0000 - val_loss: 11.3179 - val_accuracy: 0.0000e+00\n",
            "Epoch 49/50\n",
            "1/1 [==============================] - 2s 2s/step - loss: 3.3039e-04 - accuracy: 1.0000 - val_loss: 11.3479 - val_accuracy: 0.0000e+00\n",
            "Epoch 50/50\n",
            "1/1 [==============================] - 3s 3s/step - loss: 3.2038e-04 - accuracy: 1.0000 - val_loss: 11.3774 - val_accuracy: 0.0000e+00\n"
          ],
          "name": "stdout"
        }
      ]
    },
    {
      "cell_type": "code",
      "metadata": {
        "colab": {
          "background_save": true
        },
        "id": "WKm3L1zvjz5p",
        "outputId": "e10c3cc2-b3b7-425b-cf38-77689d346b13"
      },
      "source": [
        "plt.plot(history.history['accuracy'])\n",
        "plt.plot(history.history['val_accuracy'])\n",
        "plt.title('VGG-16 model accuracy')\n",
        "plt.ylabel('accuracy')\n",
        "plt.xlabel('epoch')\n",
        "plt.legend(['train', 'Validation'], loc='upper left')\n",
        "plt.show()"
      ],
      "execution_count": null,
      "outputs": [
        {
          "output_type": "display_data",
          "data": {
            "image/png": "[encoded data removed]",
            "text/plain": [
              "<Figure size 432x288 with 1 Axes>"
            ]
          },
          "metadata": {
            "tags": []
          }
        }
      ]
    },
    {
      "cell_type": "code",
      "metadata": {
        "id": "KsC7hqhZj1__"
      },
      "source": [
        "plt.plot(history.history['loss'])\n",
        "plt.plot(history.history['val_loss'])\n",
        "plt.title('VGG16 model loss')\n",
        "plt.ylabel('loss')\n",
        "plt.xlabel('epoch')\n",
        "plt.legend(['train', 'Validation'], loc='upper left')\n",
        "plt.show()"
      ],
      "execution_count": null,
      "outputs": []
    }
  ]
}